{
 "cells": [
  {
   "cell_type": "code",
   "execution_count": null,
   "id": "armed-closure",
   "metadata": {},
   "outputs": [],
   "source": [
    "import numpy as np\n",
    "import matplotlib.pylab as plt\n",
    "import pandas as pd"
   ]
  },
  {
   "cell_type": "code",
   "execution_count": null,
   "id": "wooden-parcel",
   "metadata": {},
   "outputs": [],
   "source": [
    "from astropy import units as u\n",
    "from astropy.coordinates import SkyCoord"
   ]
  },
  {
   "cell_type": "code",
   "execution_count": null,
   "id": "empty-cincinnati",
   "metadata": {},
   "outputs": [],
   "source": [
    "infilenames = ['GaiaSource_000000-003111.csv']\n",
    "infilenames += ['GaiaSource_668805-668856.csv']\n",
    "infilenames += ['GaiaSource_472714-472767.csv']\n",
    "infilenames += ['GaiaSource_786097-786431.csv']"
   ]
  },
  {
   "cell_type": "code",
   "execution_count": null,
   "id": "previous-vacation",
   "metadata": {},
   "outputs": [],
   "source": [
    "li = []\n",
    "\n",
    "for infilename in infilenames:\n",
    "    print(infilename)\n",
    "    df = pd.read_csv(infilename)\n",
    "    li.append(df)\n",
    "    \n",
    "df = pd.concat(li, axis=0, ignore_index=True)\n",
    "    "
   ]
  },
  {
   "cell_type": "markdown",
   "id": "cultural-think",
   "metadata": {},
   "source": [
    "[GAIA source documentation](https://gea.esac.esa.int/archive/documentation/GEDR3/Gaia_archive/chap_datamodel/sec_dm_main_tables/ssec_dm_gaia_source.html)"
   ]
  },
  {
   "cell_type": "code",
   "execution_count": null,
   "id": "forty-closer",
   "metadata": {},
   "outputs": [],
   "source": [
    "df.columns"
   ]
  },
  {
   "cell_type": "code",
   "execution_count": null,
   "id": "robust-looking",
   "metadata": {},
   "outputs": [],
   "source": [
    "np.unique(df['dr2_radial_velocity'])"
   ]
  },
  {
   "cell_type": "code",
   "execution_count": null,
   "id": "sunrise-mercy",
   "metadata": {},
   "outputs": [],
   "source": [
    "rv = df['dr2_radial_velocity']\n",
    "rv = rv.dropna()\n",
    "\n",
    "print(f\"{len(rv)} entries with rv as a number\")"
   ]
  },
  {
   "cell_type": "code",
   "execution_count": null,
   "id": "distant-local",
   "metadata": {},
   "outputs": [],
   "source": [
    "plt.hist(rv,bins=200);"
   ]
  },
  {
   "cell_type": "code",
   "execution_count": null,
   "id": "shaped-haiti",
   "metadata": {},
   "outputs": [],
   "source": [
    "dfgood = df[~df['dr2_radial_velocity'].isnull()]\n",
    "#dfgood = df"
   ]
  },
  {
   "cell_type": "code",
   "execution_count": null,
   "id": "cathedral-rocket",
   "metadata": {},
   "outputs": [],
   "source": [
    "len(dfgood)\n",
    "\n",
    "dfgood['ra']"
   ]
  },
  {
   "cell_type": "code",
   "execution_count": null,
   "id": "accessory-dictionary",
   "metadata": {},
   "outputs": [],
   "source": [
    "x = dfgood['dr2_radial_velocity']\n",
    "y = dfgood['phot_g_mean_mag']\n",
    "y0 = df['phot_g_mean_mag']\n",
    "\n",
    "plt.figure()\n",
    "plt.hist(y0,bins=50,range=(0,25))\n",
    "plt.hist(y,bins=50,range=(0,25));"
   ]
  },
  {
   "cell_type": "code",
   "execution_count": null,
   "id": "overall-facility",
   "metadata": {},
   "outputs": [],
   "source": [
    "plt.figure(figsize=(8,8))\n",
    "plt.plot(x,y,'.',alpha=0.5,markersize=0.5)"
   ]
  },
  {
   "cell_type": "markdown",
   "id": "acute-treasury",
   "metadata": {},
   "source": [
    "https://en.wikipedia.org/wiki/Galactic_coordinate_system\n",
    "\n",
    "https://astronomy.stackexchange.com/questions/35536/transforming-galactic-coordinates-in-cartesian-with-distance\n",
    "\n",
    "https://en.wikipedia.org/wiki/Stellar_parallax\n",
    "\n",
    "[Parsec](https://en.wikipedia.org/wiki/Parsec) is the units for $1/\\textrm{parallax}$. 1 parsec = 3.26 light-years.\n",
    "\n",
    "I think the units of parsecs is milliarcsecs (mas).\n",
    "\n",
    "What to do about negative parallax?\n",
    "\n",
    "https://astronomy.stackexchange.com/questions/26250/what-is-the-proper-interpretation-of-a-negative-parallax\n",
    "\n",
    "Also, ecliptic coordinates are in the data\n",
    "\n",
    "https://en.wikipedia.org/wiki/Ecliptic_coordinate_system\n",
    "\n",
    "and l and b are in there explicitly. "
   ]
  },
  {
   "cell_type": "code",
   "execution_count": null,
   "id": "educational-subdivision",
   "metadata": {},
   "outputs": [],
   "source": [
    "c_icrs = SkyCoord(ra=10.68458*u.degree, dec=41.26917*u.degree, frame='icrs')\n",
    "c_icrs.galactic"
   ]
  },
  {
   "cell_type": "code",
   "execution_count": null,
   "id": "seeing-bottle",
   "metadata": {},
   "outputs": [],
   "source": [
    "#def galactic_coordinates(ra, dec, parallax):\n",
    "def galactic_coordinates(l, b, parallax):\n",
    "\n",
    "    #c = SkyCoord(ra=ra*u.degree, dec=dec*u.degree, frame='icrs')\n",
    "    \n",
    "    #l = c.galactic.l.rad\n",
    "    #b = c.galactic.b.rad\n",
    "    \n",
    "    lrad = np.deg2rad(l)\n",
    "    brad = np.deg2rad(b)\n",
    "    \n",
    "    # Assume that parallax is passed in as milliarcsec\n",
    "    conversion = 0.001 # Convert milliarcsec to arcsec\n",
    "    one_over_p = 1/(parallax*conversion)\n",
    "\n",
    "    x = one_over_p*np.cos(brad)*np.cos(lrad)\n",
    "    y = one_over_p*np.cos(brad)*np.sin(lrad)\n",
    "    z = one_over_p*np.sin(brad)\n",
    "    \n",
    "    return x,y,z\n",
    "    "
   ]
  },
  {
   "cell_type": "code",
   "execution_count": null,
   "id": "unavailable-player",
   "metadata": {},
   "outputs": [],
   "source": [
    "ra_org = dfgood['ra']\n",
    "dec_org = dfgood['dec']\n",
    "p_org = dfgood['parallax']\n",
    "\n",
    "l_org = dfgood['l']\n",
    "b_org = dfgood['b']\n"
   ]
  },
  {
   "cell_type": "code",
   "execution_count": null,
   "id": "falling-algorithm",
   "metadata": {
    "scrolled": false
   },
   "outputs": [],
   "source": [
    "plt.figure(figsize=(12,5))\n",
    "plt.subplot(1,3,1)\n",
    "plt.hist(ra_org,bins=50)\n",
    "\n",
    "plt.subplot(1,3,2)\n",
    "plt.hist(dec_org,bins=50)\n",
    "\n",
    "plt.subplot(1,3,3)\n",
    "plt.hist(p_org,bins=50)\n",
    "\n",
    "plt.figure(figsize=(12,12))\n",
    "plt.plot(ra_org,dec_org,'.',markersize=0.5,alpha=0.2)\n",
    "\n",
    "plt.figure(figsize=(8,8))\n",
    "plt.subplot(2,2,1)\n",
    "plt.hist(p_org,bins=50)\n",
    "\n",
    "\n",
    "plt.subplot(2,2,2)\n",
    "plt.hist(p_org[(p_org<50) & (p_org>0)],bins=50)\n",
    "\n",
    "plt.subplot(2,2,3)\n",
    "plt.hist(p_org[p_org>50],bins=50)\n",
    "\n",
    "plt.subplot(2,2,4)\n",
    "plt.hist(p_org[p_org<0.1],bins=50)\n",
    "\n",
    "plt.figure()\n",
    "plt.hist(1/p_org,bins=100)\n",
    "\n",
    "1"
   ]
  },
  {
   "cell_type": "code",
   "execution_count": null,
   "id": "level-gazette",
   "metadata": {},
   "outputs": [],
   "source": [
    "x,y,z = galactic_coordinates(10,20,0.5)\n",
    "\n",
    "print(x,y,z)"
   ]
  },
  {
   "cell_type": "markdown",
   "id": "separate-premiere",
   "metadata": {},
   "source": [
    "Someone else's visualization of within 3000 parsecs\n",
    "\n",
    "https://www.cosmos.esa.int/web/gaia/iow_20180614"
   ]
  },
  {
   "cell_type": "code",
   "execution_count": null,
   "id": "charged-professor",
   "metadata": {},
   "outputs": [],
   "source": [
    "#mask = (p_org>0.1) & (ra_org == ra_org)\n",
    "mask = (p_org>0.1)\n",
    "\n",
    "\n",
    "#ra = ra_org[mask].values\n",
    "#dec = dec_org[mask].values\n",
    "\n",
    "l = l_org[mask].values\n",
    "b = b_org[mask].values\n",
    "\n",
    "p = p_org[mask].values\n",
    "            \n",
    "\n",
    "#x,y,z = galactic_coordinates(ra, dec, p)\n",
    "x,y,z = galactic_coordinates(l, b, p)\n",
    "\n",
    "\n",
    "fig = plt.figure(figsize=(8,8))\n",
    "ax = fig.add_subplot(projection='3d')\n",
    "\n",
    "plt.plot(x,y,z,'.',markersize=0.5,alpha=0.2)"
   ]
  },
  {
   "cell_type": "code",
   "execution_count": null,
   "id": "floral-equality",
   "metadata": {},
   "outputs": [],
   "source": [
    "plt.figure(figsize=(12,5))\n",
    "plt.subplot(1,3,1)\n",
    "plt.hist(x,bins=50)\n",
    "\n",
    "plt.subplot(1,3,2)\n",
    "plt.hist(x,bins=50)\n",
    "\n",
    "plt.subplot(1,3,3)\n",
    "plt.hist(x,bins=50)\n",
    "\n",
    "1"
   ]
  },
  {
   "cell_type": "code",
   "execution_count": null,
   "id": "special-ethiopia",
   "metadata": {},
   "outputs": [],
   "source": [
    "rv = dfgood['dr2_radial_velocity']"
   ]
  },
  {
   "cell_type": "code",
   "execution_count": null,
   "id": "overhead-course",
   "metadata": {},
   "outputs": [],
   "source": [
    "len(rv)"
   ]
  },
  {
   "cell_type": "code",
   "execution_count": null,
   "id": "embedded-values",
   "metadata": {},
   "outputs": [],
   "source": [
    "plt.figure()\n",
    "plt.hist(rv,bins=100)\n",
    "plt.yscale('log')\n",
    "\n",
    "1"
   ]
  },
  {
   "cell_type": "code",
   "execution_count": null,
   "id": "wireless-mileage",
   "metadata": {},
   "outputs": [],
   "source": [
    "x,y,z"
   ]
  },
  {
   "cell_type": "code",
   "execution_count": null,
   "id": "framed-football",
   "metadata": {},
   "outputs": [],
   "source": [
    "rv"
   ]
  },
  {
   "cell_type": "code",
   "execution_count": null,
   "id": "infrared-grain",
   "metadata": {},
   "outputs": [],
   "source": [
    "df.columns"
   ]
  },
  {
   "cell_type": "code",
   "execution_count": null,
   "id": "junior-frontier",
   "metadata": {},
   "outputs": [],
   "source": [
    "df['ecl_lon']"
   ]
  },
  {
   "cell_type": "code",
   "execution_count": null,
   "id": "supposed-motorcycle",
   "metadata": {},
   "outputs": [],
   "source": [
    "#!pip install plotly"
   ]
  },
  {
   "cell_type": "code",
   "execution_count": null,
   "id": "divine-tulsa",
   "metadata": {},
   "outputs": [],
   "source": [
    "import plotly.express as px\n",
    "import plotly.graph_objects as go\n"
   ]
  },
  {
   "cell_type": "code",
   "execution_count": null,
   "id": "speaking-measurement",
   "metadata": {},
   "outputs": [],
   "source": [
    "#px.scatter_3d(x,y,z,'.')\n",
    "fig = go.Figure(data=[go.Scatter3d(x=x, y=y, z=z,\n",
    "                                   mode='markers', marker=dict(size=1))])\n",
    "\n",
    "fig.show()"
   ]
  },
  {
   "cell_type": "code",
   "execution_count": null,
   "id": "surrounded-pierce",
   "metadata": {},
   "outputs": [],
   "source": []
  },
  {
   "cell_type": "markdown",
   "id": "reduced-interstate",
   "metadata": {},
   "source": [
    "Proper motion\n",
    "\n",
    "https://gea.esac.esa.int/archive/documentation/GEDR3/Gaia_archive/chap_datamodel/sec_dm_main_tables/ssec_dm_gaia_source.html\n",
    "    \n",
    "\n",
    "https://en.wikipedia.org/wiki/Proper_motion#:~:text=Proper%20motion%20is%20the%20astrometric,of%20the%20more%20distant%20stars.\n",
    "    \n",
    " \n",
    "pmra,pmdec\n",
    "    "
   ]
  },
  {
   "cell_type": "code",
   "execution_count": null,
   "id": "peripheral-cache",
   "metadata": {},
   "outputs": [],
   "source": [
    "pmra = dfgood['pmra']\n",
    "pmdec = dfgood['pmdec']"
   ]
  },
  {
   "cell_type": "code",
   "execution_count": null,
   "id": "adjusted-content",
   "metadata": {},
   "outputs": [],
   "source": [
    "mask = pmdec<1600\n",
    "\n",
    "plt.plot(pmra[mask],pmdec[mask],'.')"
   ]
  }
 ],
 "metadata": {
  "kernelspec": {
   "display_name": "Python 3",
   "language": "python",
   "name": "python3"
  },
  "language_info": {
   "codemirror_mode": {
    "name": "ipython",
    "version": 3
   },
   "file_extension": ".py",
   "mimetype": "text/x-python",
   "name": "python",
   "nbconvert_exporter": "python",
   "pygments_lexer": "ipython3",
   "version": "3.7.9"
  }
 },
 "nbformat": 4,
 "nbformat_minor": 5
}
