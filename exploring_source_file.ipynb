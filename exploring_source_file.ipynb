{
 "cells": [
  {
   "cell_type": "code",
   "execution_count": null,
   "id": "colored-traffic",
   "metadata": {},
   "outputs": [],
   "source": [
    "import numpy as np\n",
    "import matplotlib.pylab as plt\n",
    "import pandas as pd\n",
    "\n",
    "import os\n",
    "\n",
    "import datashader as ds\n",
    "import colorcet\n",
    "\n",
    "\n",
    "#, pandas as pd, colorcet\n",
    "#df  = pd.read_csv('census.csv')\n",
    "#cvs = ds.Canvas(plot_width=850, plot_height=500)\n",
    "#agg = cvs.points(df, 'longitude', 'latitude')\n",
    "#img = ds.tf.shade(agg, cmap=colorcet.fire, how='log')\n",
    "\n"
   ]
  },
  {
   "cell_type": "code",
   "execution_count": null,
   "id": "quiet-description",
   "metadata": {},
   "outputs": [],
   "source": [
    "from astropy import units as u\n",
    "import astropy.coordinates as coord"
   ]
  },
  {
   "cell_type": "code",
   "execution_count": null,
   "id": "sublime-parade",
   "metadata": {},
   "outputs": [],
   "source": [
    "#infilenames = ['GaiaSource_000000-003111.csv.gz']\n",
    "#infilenames += ['GaiaSource_668805-668856.csv.gz']\n",
    "#infilenames += ['GaiaSource_472714-472767.csv.gz']\n",
    "#infilenames += ['GaiaSource_786097-786431.csv.gz']\n",
    "\n",
    "\n",
    "path = '/home/bellis/GAIA_data'\n",
    "#path = '/home/bellis/GAIA/'\n",
    "\n",
    "\n",
    "\n",
    "files = (filename for filename in os.listdir(path)\n",
    "         if os.path.isfile(os.path.join(path,filename)) and filename.find('.h5')>=0)\n",
    "    \n",
    "\n",
    "infilenames = []\n",
    "icount = 0\n",
    "for f in files:\n",
    "    infilenames.append(f\"{path}/{f}\")\n",
    "    #print(f)\n",
    "    icount += 1\n",
    "    #if icount>=5:\n",
    "    #    break\n",
    "          \n",
    "print(f\"# files: {len(infilenames)}\")"
   ]
  },
  {
   "cell_type": "code",
   "execution_count": null,
   "id": "swiss-russian",
   "metadata": {},
   "outputs": [],
   "source": [
    "li = []\n",
    "\n",
    "nfiles = len(infilenames)\n",
    "\n",
    "#for infilename in infilenames[0:5]:\n",
    "for i,infilename in enumerate(infilenames):\n",
    "\n",
    "    if i%100==0:\n",
    "        print(i,nfiles,infilename)\n",
    "        \n",
    "    #print(infilename)\n",
    "    df = None\n",
    "    if infilename.find('.csv.gz')>=0:\n",
    "        df = pd.read_csv(infilename, compression='gzip')\n",
    "    elif infilename.find('.h5')>=0:\n",
    "        df = pd.read_hdf(infilename)\n",
    "\n",
    "    li.append(df)\n",
    "    \n",
    "df = pd.concat(li, axis=0, ignore_index=True)\n",
    "    "
   ]
  },
  {
   "cell_type": "markdown",
   "id": "living-treasury",
   "metadata": {},
   "source": [
    "Should also check out VisIt\n",
    "\n",
    "https://visit-dav.github.io/visit-website/about/\n",
    "\n",
    "And Paraview\n",
    "\n",
    "https://www.paraview.org/\n"
   ]
  },
  {
   "cell_type": "code",
   "execution_count": null,
   "id": "printable-promotion",
   "metadata": {},
   "outputs": [],
   "source": [
    "#df = pd.read_hdf(infilenames[0])\n",
    "cvs = ds.Canvas(plot_width=850, plot_height=500)\n",
    "agg = cvs.points(df, 'ra', 'dec')\n",
    "img = ds.tf.shade(agg, cmap=colorcet.fire, how='log')\n",
    "\n",
    "img"
   ]
  },
  {
   "cell_type": "code",
   "execution_count": null,
   "id": "7a19ab81",
   "metadata": {},
   "outputs": [],
   "source": [
    "df['dr2_radial_velocity'].hist(bins=100)\n",
    "\n",
    "print(len(df))"
   ]
  },
  {
   "cell_type": "code",
   "execution_count": null,
   "id": "2955c728",
   "metadata": {},
   "outputs": [],
   "source": [
    "cvs = ds.Canvas(plot_width=850, plot_height=500)\n",
    "agg = cvs.points(df, 'l', 'b')\n",
    "img = ds.tf.shade(agg, cmap=colorcet.fire, how='log')\n",
    "\n",
    "img"
   ]
  },
  {
   "cell_type": "code",
   "execution_count": null,
   "id": "28e4b345",
   "metadata": {},
   "outputs": [],
   "source": [
    "print(min(df['l']), max(df['l']))\n",
    "print(min(df['b']), max(df['b']))"
   ]
  },
  {
   "cell_type": "code",
   "execution_count": null,
   "id": "celtic-thread",
   "metadata": {},
   "outputs": [],
   "source": [
    "nvals = len(df)\n",
    "print(nvals)\n",
    "\n",
    "nsamples = 1000\n",
    "\n",
    "x = np.arange(0,nvals,1).astype(int)\n",
    "np.random.shuffle(x)\n",
    "\n",
    "indices = x[0:nsamples]\n",
    "\n",
    "#print(indices)\n",
    "\n",
    "df_sample = df.iloc[indices]\n",
    "\n",
    "name = f\"gaia_subset_n{nsamples}.h5\"\n",
    "\n",
    "#df_sample.to_hdf(name,'df')\n",
    "\n",
    "df_sample\n",
    "\n",
    "plt.figure()\n",
    "plt.plot(df_sample['ra'],df_sample['dec'],'.',markersize=1)"
   ]
  },
  {
   "cell_type": "code",
   "execution_count": null,
   "id": "animal-edward",
   "metadata": {},
   "outputs": [],
   "source": [
    "#df = df[df['parallax'].notna()]\n",
    "\n",
    "#galactic_latitude = df_sample['b'].values\n",
    "#galactic_longitude = df_sample['l'].values\n",
    "\n",
    "#parallax = df_sample['parallax'].values\n",
    "#ra = df_sample['ra'].values\n",
    "#dec = df_sample['dec'].values\n",
    "\n",
    "parallax = df['parallax'].values\n",
    "ra = df['ra'].values\n",
    "dec = df['dec'].values\n",
    "\n",
    "\n",
    "#print(parallax)\n",
    "\n",
    "print(parallax[parallax!=parallax])\n",
    "\n",
    "conversion = 0.001 # Convert milliarcsec to arcsec\n",
    "r = 1/(parallax*conversion) # Distance in Mpc\n",
    "\n",
    "mask = r>0\n",
    "\n",
    "#print(r[mask][r[mask]==r[mask]])\n",
    "\n",
    "#for i in galactic_longitude:\n",
    "#    if isinstance(i, float)==True:\n",
    "#        base=1\n",
    "#    else:\n",
    "#        print(i)\n",
    "#distance = [1/(n*0.001) for n in parallax]\n",
    "\n",
    "print()\n",
    "\n",
    "\n",
    "#c= SkyCoord(galactic_longitude[mask]*u.deg,galactic_latitude[mask]*u.deg,distance=r*u.Mpc,frame='galactic')\n",
    "\n",
    "c1 = coord.SkyCoord(ra=ra[mask]*u.degree, dec=dec[mask]*u.degree,\n",
    "                    distance=(parallax[mask]*u.mas).to(u.pc, u.parallax()),\n",
    "                    #pm_ra_cosdec=372.72*u.mas/u.yr,\n",
    "                    #pm_dec=-483.69*u.mas/u.yr,\n",
    "                    #radial_velocity=0.37*u.km/u.s,\n",
    "                    frame='icrs')\n",
    "\n",
    "gc1 = c1.transform_to(coord.Galactocentric)\n",
    "\n",
    "v_sun = [11.1, 244, 7.25] * (u.km / u.s)  # [vx, vy, vz]\n",
    "gc_frame = coord.Galactocentric(\n",
    "    galcen_distance=8*u.kpc,\n",
    "    galcen_v_sun=v_sun,\n",
    "    z_sun=0*u.pc)\n",
    "\n",
    "gc2 = c1.transform_to(gc_frame)\n",
    "\n",
    "#gc_frame= Galactocentric(galcen_distance=8.1*u.kpc,\n",
    "#                                   z_sun=25.*u.pc)\n",
    "#gc = c.transform_to(gc_frame)\n",
    "#gc.representation_type = 'cylindrical'"
   ]
  },
  {
   "cell_type": "code",
   "execution_count": null,
   "id": "distinct-peter",
   "metadata": {},
   "outputs": [],
   "source": [
    "dfgc = pd.DataFrame()\n",
    "\n",
    "mask = (gc2.x>-10000*u.pc) & (gc2.x<10000*u.pc) & \\\n",
    "     (gc2.y>-10000*u.pc) & (gc2.y<10000*u.pc) & \\\n",
    "     (gc2.z>-10000*u.pc) & (gc2.z<10000*u.pc)\n",
    "    \n",
    "\n",
    "dfgc['x'] = gc2.x[mask]\n",
    "dfgc['y'] = gc2.y[mask]\n",
    "dfgc['z'] = gc2.z[mask]"
   ]
  },
  {
   "cell_type": "code",
   "execution_count": null,
   "id": "loose-communist",
   "metadata": {},
   "outputs": [],
   "source": [
    "gc2.x"
   ]
  },
  {
   "cell_type": "code",
   "execution_count": null,
   "id": "opposed-crawford",
   "metadata": {},
   "outputs": [],
   "source": [
    "cvs = ds.Canvas(plot_width=850, plot_height=500)\n",
    "agg = cvs.points(dfgc, 'x', 'y')\n",
    "img = ds.tf.shade(agg, cmap=colorcet.fire, how='log')\n",
    "\n",
    "img"
   ]
  },
  {
   "cell_type": "code",
   "execution_count": null,
   "id": "advised-shore",
   "metadata": {},
   "outputs": [],
   "source": [
    "cvs = ds.Canvas(plot_width=850, plot_height=500)\n",
    "agg = cvs.points(dfgc, 'x', 'z')\n",
    "img = ds.tf.shade(agg, cmap=colorcet.fire, how='log')\n",
    "\n",
    "img"
   ]
  },
  {
   "cell_type": "code",
   "execution_count": null,
   "id": "recognized-microphone",
   "metadata": {},
   "outputs": [],
   "source": [
    "cvs = ds.Canvas(plot_width=850, plot_height=500)\n",
    "agg = cvs.points(dfgc, 'y', 'z')\n",
    "img = ds.tf.shade(agg, cmap=colorcet.fire, how='log')\n",
    "\n",
    "img"
   ]
  },
  {
   "cell_type": "code",
   "execution_count": null,
   "id": "enhanced-trial",
   "metadata": {},
   "outputs": [],
   "source": [
    "len(dfgc)"
   ]
  },
  {
   "cell_type": "code",
   "execution_count": null,
   "id": "helpful-triumph",
   "metadata": {},
   "outputs": [],
   "source": [
    "#plt.figure()\n",
    "#plt.plot(gc2.x,gc2.y,'.',markersize=1)\n",
    "#plt.xlim(-10000,10000)\n",
    "#plt.ylim(-10000,10000)"
   ]
  },
  {
   "cell_type": "markdown",
   "id": "personalized-bridges",
   "metadata": {},
   "source": [
    "## Uncertainties"
   ]
  },
  {
   "cell_type": "code",
   "execution_count": null,
   "id": "spatial-idaho",
   "metadata": {},
   "outputs": [],
   "source": [
    "plt.figure(figsize=(16,4))\n",
    "rv = df['dr2_radial_velocity']\n",
    "rverr = df['dr2_radial_velocity_error']\n",
    "\n",
    "plt.subplot(1,3,1)\n",
    "plt.hist(rv,bins=100, range=(-200,200))\n",
    "plt.xlabel('Radial velocity')\n",
    "\n",
    "plt.subplot(1,3,2)\n",
    "plt.hist(rverr,bins=100,range=(0,10))\n",
    "plt.xlabel('Radial velocity error')\n",
    "\n",
    "plt.subplot(1,3,3)\n",
    "plt.hist(rverr/rv,bins=100,range=(0,2))\n",
    "plt.xlabel('Radial velocity error / radial velocity')\n",
    "plt.yscale('log')"
   ]
  },
  {
   "cell_type": "code",
   "execution_count": null,
   "id": "secure-joseph",
   "metadata": {},
   "outputs": [],
   "source": [
    "plt.figure(figsize=(16,4))\n",
    "\n",
    "plt.subplot(1,3,1)\n",
    "plt.hist(r,bins=100,range=(0,2e4))\n",
    "plt.xlabel('Distance (Mpc)')\n",
    "\n",
    "plt.subplot(1,3,2)\n",
    "plt.plot(r,rv,'.',markersize=0.5,alpha=0.05)\n",
    "plt.xlabel('Distance (Mpc)')\n",
    "plt.xlim(0,2e4)\n",
    "plt.ylim(-200,200)\n",
    "\n",
    "\n",
    "plt.subplot(1,3,3)\n",
    "plt.plot(r,rverr,'.',markersize=0.5,alpha=0.05)\n",
    "plt.xlabel('Distance (Mpc)')\n",
    "plt.xlim(0,2e4)\n",
    "plt.ylim(0,10)\n"
   ]
  },
  {
   "cell_type": "code",
   "execution_count": null,
   "id": "extreme-guess",
   "metadata": {},
   "outputs": [],
   "source": [
    "plt.figure(figsize=(16,4))\n",
    "\n",
    "mask = (r>0) & (r<2e5)\n",
    "\n",
    "plt.subplot(1,3,1)\n",
    "plt.hist(r,bins=100,range=(0,2e4))\n",
    "plt.xlabel('Distance (Mpc)')\n",
    "\n",
    "plt.subplot(1,3,2)\n",
    "plt.hist2d(r[mask],rv[mask],bins=(100,100),range=[[0,2e4],[-200,200]],cmap=plt.cm.jet)\n",
    "plt.xlabel('Distance (Mpc)')\n",
    "plt.xlim(0,2e4)\n",
    "plt.ylim(-200,200)\n",
    "\n",
    "plt.subplot(1,3,3)\n",
    "plt.hist2d(r[mask],rverr[mask],bins=(100,100),range=[[0,2e4],[0,2]],cmap=plt.cm.jet)\n",
    "plt.xlabel('Distance (Mpc)')\n",
    "plt.xlim(0,2e4)\n",
    "\n",
    "conversion = 0.001 # Convert milliarcsec to arcsec\n",
    "r = 1/(parallax*conversion) # Distance in Mpc\n",
    "\n"
   ]
  },
  {
   "cell_type": "markdown",
   "id": "interracial-netherlands",
   "metadata": {},
   "source": [
    "## Velocities\n",
    "\n",
    "Reference for units and data dictionary\n",
    "\n",
    "https://gea.esac.esa.int/archive/documentation/GEDR3/Gaia_archive/chap_datamodel/sec_dm_main_tables/ssec_dm_gaia_source.html"
   ]
  },
  {
   "cell_type": "code",
   "execution_count": null,
   "id": "forward-cloud",
   "metadata": {},
   "outputs": [],
   "source": [
    "#'''\n",
    "ra = df['ra'].values\n",
    "dec = df['dec'].values\n",
    "parallax = df['parallax'].values\n",
    "pm_ra = df['pmra'].values\n",
    "pm_dec = df['pmdec'].values\n",
    "rv = df['dr2_radial_velocity'].values\n",
    "#'''\n",
    "\n",
    "\n",
    "'''\n",
    "ra = df_sample['ra'].values\n",
    "dec = df_sample['dec'].values\n",
    "parallax = df_sample['parallax'].values\n",
    "pm_ra = df_sample['pmra'].values\n",
    "pm_dec = df_sample['pmdec'].values\n",
    "rv = df_sample['dr2_radial_velocity'].values\n",
    "'''\n",
    "\n",
    "# Is this right?\n",
    "pm_ra_cosdec = pm_ra*np.cos(pm_dec)\n",
    "\n",
    "conversion = 0.001 # Convert milliarcsec to arcsec\n",
    "r = 1/(parallax*conversion) # Distance in Mpc\n",
    "\n",
    "mask = (r>0) & (r<2e5) # Cut on distance\n",
    "#mask = (r>0) & (r<1000) # Cut on distance\n",
    "\n",
    "\n",
    "c1_with_vel = coord.SkyCoord(ra=ra[mask]*u.degree, dec=dec[mask]*u.degree,\n",
    "                    distance=(parallax[mask]*u.mas).to(u.pc, u.parallax()),\n",
    "                    pm_ra_cosdec=pm_ra_cosdec[mask]*u.mas/u.yr,\n",
    "                    pm_dec=pm_dec[mask]*u.mas/u.yr,\n",
    "                    radial_velocity=rv[mask]*u.km/u.s,\n",
    "                    frame='icrs')\n",
    "\n",
    "v_sun = [11.1, 244, 7.25] * (u.km / u.s)  # [vx, vy, vz]\n",
    "gc_frame = coord.Galactocentric(\n",
    "    galcen_distance=8*u.kpc,\n",
    "    galcen_v_sun=v_sun,\n",
    "    z_sun=0*u.pc)\n",
    "\n",
    "gc_with_vel = c1_with_vel.transform_to(gc_frame)\n"
   ]
  },
  {
   "cell_type": "code",
   "execution_count": null,
   "id": "coated-projector",
   "metadata": {},
   "outputs": [],
   "source": [
    "vx = gc_with_vel.velocity.d_x\n",
    "vy = gc_with_vel.velocity.d_y\n",
    "vz = gc_with_vel.velocity.d_z"
   ]
  },
  {
   "cell_type": "code",
   "execution_count": null,
   "id": "configured-render",
   "metadata": {},
   "outputs": [],
   "source": [
    "plt.plot(vx,vy,'.',markersize=0.5,alpha=0.9)\n",
    "plt.xlim(-200,200)\n",
    "plt.ylim(-200,200)"
   ]
  },
  {
   "cell_type": "code",
   "execution_count": null,
   "id": "involved-visit",
   "metadata": {},
   "outputs": [],
   "source": [
    "#vx.value"
   ]
  },
  {
   "cell_type": "code",
   "execution_count": null,
   "id": "measured-mortality",
   "metadata": {},
   "outputs": [],
   "source": [
    "plt.figure(figsize=(12,12))\n",
    "plt.hist2d(vx.value,vy.value,bins=(100,100),range=[[-200,200],[0,400]],cmap=plt.cm.jet);\n"
   ]
  },
  {
   "cell_type": "markdown",
   "id": "41d31258",
   "metadata": {},
   "source": [
    "# Velocity"
   ]
  },
  {
   "cell_type": "code",
   "execution_count": null,
   "id": "640628d3",
   "metadata": {},
   "outputs": [],
   "source": [
    "x = gc_with_vel.cartesian.x\n",
    "y = gc_with_vel.cartesian.y\n",
    "z = gc_with_vel.cartesian.z\n",
    "\n",
    "vx = gc_with_vel.velocity.d_x\n",
    "vy = gc_with_vel.velocity.d_y\n",
    "vz = gc_with_vel.velocity.d_z\n",
    "\n",
    "r = np.sqrt(x*x + y*y + z*z)\n",
    "\n",
    "vmag = np.sqrt(vx*vx + vy*vy + vz*vz)"
   ]
  },
  {
   "cell_type": "code",
   "execution_count": null,
   "id": "9d94056c",
   "metadata": {},
   "outputs": [],
   "source": [
    "plt.figure(figsize=(15,9))\n",
    "plt.subplot(2,2,1)\n",
    "plt.hist(z.value,bins=100,range=(-1500,1500));\n",
    "\n",
    "plt.subplot(2,2,2)\n",
    "plt.hist(r.value,bins=100,range=(0,15000));\n",
    "\n",
    "plt.subplot(2,2,3)\n",
    "plt.hist(vmag.value,bins=100,range=(0,500));"
   ]
  },
  {
   "cell_type": "code",
   "execution_count": null,
   "id": "059e25ba",
   "metadata": {},
   "outputs": [],
   "source": [
    "yvals = []\n",
    "yerr = []\n",
    "xvals = []\n",
    "nvals = []\n",
    "\n",
    "rwidth = 200\n",
    "\n",
    "for i in np.arange(0,14000,rwidth):\n",
    "    mask = (r.value>i) & (r.value<(i+rwidth)) & (np.abs(z.value)<200)\n",
    "    print(i,i+rwidth,len(r[mask]))\n",
    "\n",
    "    yvals.append(np.mean(vmag.value[mask]))\n",
    "    yerr.append(np.std(vmag.value[mask]))\n",
    "    xvals.append((i + (i+rwidth))/2.0)\n",
    "    nvals.append(len(r[mask]))\n",
    "\n",
    "yvals = np.array(yvals)\n",
    "xvals = np.array(xvals)\n",
    "yerr = np.array(yerr)\n",
    "nvals = np.array(nvals)\n",
    "    \n"
   ]
  },
  {
   "cell_type": "code",
   "execution_count": null,
   "id": "cc1ec686",
   "metadata": {},
   "outputs": [],
   "source": [
    "plt.figure(figsize=(12,12))\n",
    "plt.subplot(2,2,1)\n",
    "plt.errorbar(xvals,yvals,yerr=yerr,fmt='o',markersize=5)\n",
    "plt.ylim(0,300)\n",
    "\n",
    "plt.subplot(2,2,2)\n",
    "plt.errorbar(xvals,nvals,yerr=1)\n",
    "#plt.ylim(0,300)\n",
    "\n",
    "plt.subplot(2,2,3)\n",
    "plt.errorbar(xvals,yvals,yerr=yerr/nvals,fmt='o',markersize=5)\n",
    "plt.ylim(0,300)\n",
    "\n",
    "plt.figure(figsize=(12,5))\n",
    "plt.errorbar(xvals,yvals,yerr=yerr,fmt='o',markersize=5)\n",
    "plt.xlabel(r'r (Mpc)',fontsize=24)\n",
    "plt.ylabel(r'v (km/s)',fontsize=24)\n",
    "plt.ylim(0,300)\n",
    "\n",
    "\n",
    "plt.figure(figsize=(12,5))\n",
    "plt.errorbar(xvals,yvals,yerr=yerr/nvals,fmt='o',markersize=5)\n",
    "plt.xlabel(r'r (Mpc)',fontsize=24)\n",
    "plt.ylabel(r'v (km/s)',fontsize=24)\n",
    "plt.ylim(0,300)\n"
   ]
  },
  {
   "cell_type": "code",
   "execution_count": null,
   "id": "8272c90a",
   "metadata": {},
   "outputs": [],
   "source": [
    "\n",
    "\n",
    "plt.figure(figsize=(12,5))\n",
    "plt.errorbar(xvals,yvals,yerr=yerr,fmt='o',markersize=5)\n",
    "plt.xlabel(r'r (Mpc)',fontsize=24)\n",
    "plt.ylabel(r'v (km/s)',fontsize=24)\n",
    "plt.ylim(0,300)\n",
    "\n",
    "\n",
    "plt.figure(figsize=(12,5))\n",
    "plt.errorbar(xvals,yvals,yerr=yerr/nvals,fmt='o',markersize=5)\n",
    "plt.xlabel(r'r (Mpc)',fontsize=24)\n",
    "plt.ylabel(r'v (km/s)',fontsize=24)\n",
    "plt.ylim(0,300)"
   ]
  },
  {
   "cell_type": "code",
   "execution_count": null,
   "id": "4b3676be",
   "metadata": {},
   "outputs": [],
   "source": [
    "#plt.plot(r,vmag,'.',alpha=0.1)"
   ]
  },
  {
   "cell_type": "code",
   "execution_count": null,
   "id": "4f811e82",
   "metadata": {},
   "outputs": [],
   "source": [
    "len(r)"
   ]
  },
  {
   "cell_type": "code",
   "execution_count": null,
   "id": "collected-swift",
   "metadata": {},
   "outputs": [],
   "source": [
    "# Animation\n",
    "from matplotlib.animation import FuncAnimation\n",
    "from matplotlib import rc\n"
   ]
  },
  {
   "cell_type": "code",
   "execution_count": null,
   "id": "divine-metadata",
   "metadata": {},
   "outputs": [],
   "source": [
    "#'''\n",
    "ra = df_sample['ra'].values\n",
    "dec = df_sample['dec'].values\n",
    "parallax = df_sample['parallax'].values\n",
    "pm_ra = df_sample['pmra'].values\n",
    "pm_dec = df_sample['pmdec'].values\n",
    "rv = df_sample['dr2_radial_velocity'].values\n",
    "#'''\n",
    "\n",
    "# Is this right?\n",
    "pm_ra_cosdec = pm_ra*np.cos(pm_dec)\n",
    "\n",
    "conversion = 0.001 # Convert milliarcsec to arcsec\n",
    "r = 1/(parallax*conversion) # Distance in Mpc\n",
    "\n",
    "mask = (r>0) & (r<2e5) # Cut on distance\n",
    "#mask = (r>0) & (r<1000) # Cut on distance\n",
    "\n",
    "\n",
    "gc_with_vel_anim = coord.SkyCoord(ra=ra[mask]*u.degree, dec=dec[mask]*u.degree,\n",
    "                    distance=(parallax[mask]*u.mas).to(u.pc, u.parallax()),\n",
    "                    pm_ra_cosdec=pm_ra_cosdec[mask]*u.mas/u.yr,\n",
    "                    pm_dec=pm_dec[mask]*u.mas/u.yr,\n",
    "                    radial_velocity=rv[mask]*u.km/u.s,\n",
    "                    frame='icrs')\n",
    "\n",
    "v_sun = [11.1, 244, 7.25] * (u.km / u.s)  # [vx, vy, vz]\n",
    "gc_frame = coord.Galactocentric(\n",
    "    galcen_distance=8*u.kpc,\n",
    "    galcen_v_sun=v_sun,\n",
    "    z_sun=0*u.pc)\n",
    "\n",
    "gc_with_vel_anim = gc_with_vel_anim.transform_to(gc_frame)\n"
   ]
  },
  {
   "cell_type": "code",
   "execution_count": null,
   "id": "surface-portrait",
   "metadata": {},
   "outputs": [],
   "source": [
    "x = gc_with_vel_anim.x.value\n",
    "y = gc_with_vel_anim.y.value\n",
    "z = gc_with_vel_anim.z.value\n",
    "\n",
    "vx = gc_with_vel_anim.velocity.d_x.value\n",
    "vy = gc_with_vel_anim.velocity.d_y.value\n",
    "vz = gc_with_vel_anim.velocity.d_z.value\n",
    "\n",
    "print(len(x), len(vx))\n",
    "print(len(y), len(vy))"
   ]
  },
  {
   "cell_type": "code",
   "execution_count": null,
   "id": "assigned-riverside",
   "metadata": {},
   "outputs": [],
   "source": [
    "fig = plt.figure(figsize=(12,8))   #plotting\n",
    "ax = plt.axes(xlim=(min(x),max(x)), ylim=(min(y),max(y)))\n",
    "#ax = plt.axes(xlim=(-10000,-5000), ylim=(-5000,5000))\n",
    "\n",
    "\n",
    "time_text = ax.text(0.02, 0.95, '', transform=ax.transAxes)\n",
    "\n",
    "#plt.xlabel(\"Right Ascension\")\n",
    "#plt.ylabel(\"Declination\")\n",
    "#plt.title(\"RA vs DEC\" )\n",
    "\n",
    "\n",
    "#####################################################################\n",
    "point = ax.scatter([], [],s=5,alpha=0.2)\n",
    "\n",
    "#### Another approach with scatter plot\n",
    "# https://stackoverflow.com/questions/9401658/how-to-animate-a-scatter-plot\n",
    "\n",
    "def init():\n",
    "    time_text.set_text('')\n",
    "    return point, time_text,\n",
    "\n",
    "def animate(i):\n",
    "    \n",
    "    if i%100==0:\n",
    "        print(i)\n",
    "    #cmap = cm.Blues\n",
    "    dt = 0.05\n",
    "    t = i*dt\n",
    "    \n",
    "    x1 = x + (t*vx)\n",
    "    y1 = y + (t*vy)\n",
    "    \n",
    "    xy = np.c_[x1, y1]\n",
    "    point.set_offsets(xy)\n",
    "    #point.set_sizes(10*1/(distance/1000))\n",
    "\n",
    "    #time_text.set_text(str(dt*i)+\" years\")\n",
    "\n",
    "    return point, time_text,\n",
    "\n",
    "plt.close()"
   ]
  },
  {
   "cell_type": "code",
   "execution_count": null,
   "id": "operational-louisville",
   "metadata": {},
   "outputs": [],
   "source": [
    "    \n",
    "nframes=500\n",
    "\n",
    "anim = FuncAnimation(fig, animate, init_func=init,\n",
    "                               frames=nframes, interval=25, blit=True,  save_count=nframes)\n"
   ]
  },
  {
   "cell_type": "code",
   "execution_count": null,
   "id": "lonely-female",
   "metadata": {},
   "outputs": [],
   "source": [
    "rc('animation', html='jshtml')\n",
    "anim"
   ]
  },
  {
   "cell_type": "markdown",
   "id": "informational-integrity",
   "metadata": {},
   "source": [
    "# Write out small sample\n",
    "\n"
   ]
  },
  {
   "cell_type": "code",
   "execution_count": null,
   "id": "distributed-shade",
   "metadata": {},
   "outputs": [],
   "source": [
    "len(df_sample)"
   ]
  },
  {
   "cell_type": "markdown",
   "id": "buried-summer",
   "metadata": {},
   "source": [
    "[GAIA source documentation](https://gea.esac.esa.int/archive/documentation/GEDR3/Gaia_archive/chap_datamodel/sec_dm_main_tables/ssec_dm_gaia_source.html)"
   ]
  },
  {
   "cell_type": "code",
   "execution_count": null,
   "id": "acquired-trinidad",
   "metadata": {},
   "outputs": [],
   "source": [
    "df.columns"
   ]
  },
  {
   "cell_type": "code",
   "execution_count": null,
   "id": "fatal-sheriff",
   "metadata": {},
   "outputs": [],
   "source": [
    "np.unique(df['dr2_radial_velocity'])"
   ]
  },
  {
   "cell_type": "code",
   "execution_count": null,
   "id": "departmental-matthew",
   "metadata": {},
   "outputs": [],
   "source": [
    "rv = df['dr2_radial_velocity']\n",
    "rv = rv.dropna()\n",
    "\n",
    "print(f\"{len(rv)} entries with rv as a number\")\n",
    "print(f\"{len(df)} total entries\")"
   ]
  },
  {
   "cell_type": "code",
   "execution_count": null,
   "id": "touched-strand",
   "metadata": {},
   "outputs": [],
   "source": [
    "plt.hist(rv,bins=200);\n",
    "plt.yscale('log')"
   ]
  },
  {
   "cell_type": "code",
   "execution_count": null,
   "id": "endangered-school",
   "metadata": {},
   "outputs": [],
   "source": [
    "#dfgood = df[~df['dr2_radial_velocity'].isnull()]\n",
    "dfgood = df"
   ]
  },
  {
   "cell_type": "code",
   "execution_count": null,
   "id": "ultimate-impression",
   "metadata": {},
   "outputs": [],
   "source": [
    "len(dfgood)\n",
    "\n",
    "dfgood['ra']"
   ]
  },
  {
   "cell_type": "code",
   "execution_count": null,
   "id": "educated-marshall",
   "metadata": {},
   "outputs": [],
   "source": [
    "x = dfgood['dr2_radial_velocity']\n",
    "y = dfgood['phot_g_mean_mag']\n",
    "y0 = df['phot_g_mean_mag']\n",
    "\n",
    "plt.figure(figsize=(12,8))\n",
    "plt.hist(y0,bins=50,range=(0,25))\n",
    "plt.hist(y,bins=50,range=(0,25));"
   ]
  },
  {
   "cell_type": "code",
   "execution_count": null,
   "id": "frozen-stand",
   "metadata": {},
   "outputs": [],
   "source": [
    "plt.figure(figsize=(8,8))\n",
    "plt.plot(x,y,'.',alpha=0.5,markersize=0.5)"
   ]
  },
  {
   "cell_type": "markdown",
   "id": "municipal-panama",
   "metadata": {},
   "source": [
    "https://en.wikipedia.org/wiki/Galactic_coordinate_system\n",
    "\n",
    "https://astronomy.stackexchange.com/questions/35536/transforming-galactic-coordinates-in-cartesian-with-distance\n",
    "\n",
    "https://en.wikipedia.org/wiki/Stellar_parallax\n",
    "\n",
    "[Parsec](https://en.wikipedia.org/wiki/Parsec) is the units for $1/\\textrm{parallax}$. 1 parsec = 3.26 light-years.\n",
    "\n",
    "I think the units of parsecs is milliarcsecs (mas).\n",
    "\n",
    "What to do about negative parallax?\n",
    "\n",
    "https://astronomy.stackexchange.com/questions/26250/what-is-the-proper-interpretation-of-a-negative-parallax\n",
    "\n",
    "Also, ecliptic coordinates are in the data\n",
    "\n",
    "https://en.wikipedia.org/wiki/Ecliptic_coordinate_system\n",
    "\n",
    "and l and b are in there explicitly. "
   ]
  },
  {
   "cell_type": "code",
   "execution_count": null,
   "id": "occasional-cambodia",
   "metadata": {},
   "outputs": [],
   "source": [
    "c_icrs = SkyCoord(ra=10.68458*u.degree, dec=41.26917*u.degree, frame='icrs')\n",
    "c_icrs.galactic"
   ]
  },
  {
   "cell_type": "code",
   "execution_count": null,
   "id": "nervous-identifier",
   "metadata": {},
   "outputs": [],
   "source": [
    "#def galactic_coordinates(ra, dec, parallax):\n",
    "def galactic_coordinates(l, b, parallax):\n",
    "\n",
    "    #c = SkyCoord(ra=ra*u.degree, dec=dec*u.degree, frame='icrs')\n",
    "    \n",
    "    #l = c.galactic.l.rad\n",
    "    #b = c.galactic.b.rad\n",
    "    \n",
    "    lrad = np.deg2rad(l)\n",
    "    brad = np.deg2rad(b)\n",
    "    \n",
    "    # Assume that parallax is passed in as milliarcsec\n",
    "    conversion = 0.001 # Convert milliarcsec to arcsec\n",
    "    one_over_p = 1/(parallax*conversion)\n",
    "\n",
    "    x = one_over_p*np.cos(brad)*np.cos(lrad)\n",
    "    y = one_over_p*np.cos(brad)*np.sin(lrad)\n",
    "    z = one_over_p*np.sin(brad)\n",
    "    \n",
    "    return x,y,z\n",
    "    "
   ]
  },
  {
   "cell_type": "code",
   "execution_count": null,
   "id": "excessive-nigeria",
   "metadata": {},
   "outputs": [],
   "source": [
    "ra_org = dfgood['ra']\n",
    "dec_org = dfgood['dec']\n",
    "p_org = dfgood['parallax']\n",
    "\n",
    "l_org = dfgood['l']\n",
    "b_org = dfgood['b']\n"
   ]
  },
  {
   "cell_type": "code",
   "execution_count": null,
   "id": "enabling-controversy",
   "metadata": {
    "scrolled": false
   },
   "outputs": [],
   "source": [
    "plt.figure(figsize=(12,5))\n",
    "plt.subplot(1,3,1)\n",
    "plt.hist(ra_org,bins=50)\n",
    "\n",
    "plt.subplot(1,3,2)\n",
    "plt.hist(dec_org,bins=50)\n",
    "\n",
    "plt.subplot(1,3,3)\n",
    "plt.hist(p_org,bins=50)\n",
    "\n",
    "plt.figure(figsize=(12,12))\n",
    "plt.plot(ra_org,dec_org,'.',markersize=0.5,alpha=0.2)\n",
    "\n",
    "plt.figure(figsize=(8,8))\n",
    "plt.subplot(2,2,1)\n",
    "plt.hist(p_org,bins=50)\n",
    "\n",
    "\n",
    "plt.subplot(2,2,2)\n",
    "plt.hist(p_org[(p_org<50) & (p_org>0)],bins=50)\n",
    "\n",
    "plt.subplot(2,2,3)\n",
    "plt.hist(p_org[p_org>50],bins=50)\n",
    "\n",
    "plt.subplot(2,2,4)\n",
    "plt.hist(p_org[p_org<0.1],bins=50)\n",
    "\n",
    "plt.figure()\n",
    "plt.hist(1/p_org,bins=100)\n",
    "\n",
    "1"
   ]
  },
  {
   "cell_type": "code",
   "execution_count": null,
   "id": "individual-insertion",
   "metadata": {},
   "outputs": [],
   "source": [
    "x,y,z = galactic_coordinates(10,20,0.5)\n",
    "\n",
    "print(x,y,z)"
   ]
  },
  {
   "cell_type": "markdown",
   "id": "permanent-authentication",
   "metadata": {},
   "source": [
    "Someone else's visualization of within 3000 parsecs\n",
    "\n",
    "https://www.cosmos.esa.int/web/gaia/iow_20180614"
   ]
  },
  {
   "cell_type": "code",
   "execution_count": null,
   "id": "focal-details",
   "metadata": {},
   "outputs": [],
   "source": [
    "#mask = (p_org>0.1) & (ra_org == ra_org)\n",
    "mask = (p_org>0.1)\n",
    "\n",
    "\n",
    "#ra = ra_org[mask].values\n",
    "#dec = dec_org[mask].values\n",
    "\n",
    "l = l_org[mask].values\n",
    "b = b_org[mask].values\n",
    "\n",
    "p = p_org[mask].values\n",
    "            \n",
    "\n",
    "#x,y,z = galactic_coordinates(ra, dec, p)\n",
    "x,y,z = galactic_coordinates(l, b, p)\n",
    "\n",
    "\n",
    "#fig = plt.figure(figsize=(8,8))\n",
    "#ax = fig.add_subplot(projection='3d')\n",
    "#\n",
    "#plt.plot(x,y,z,'.',markersize=0.5,alpha=0.2)"
   ]
  },
  {
   "cell_type": "code",
   "execution_count": null,
   "id": "failing-romance",
   "metadata": {},
   "outputs": [],
   "source": [
    "plt.figure(figsize=(12,5))\n",
    "plt.subplot(1,3,1)\n",
    "plt.hist(x,bins=50)\n",
    "\n",
    "plt.subplot(1,3,2)\n",
    "plt.hist(y,bins=50)\n",
    "\n",
    "plt.subplot(1,3,3)\n",
    "plt.hist(z,bins=50)\n",
    "\n",
    "1"
   ]
  },
  {
   "cell_type": "code",
   "execution_count": null,
   "id": "arctic-republic",
   "metadata": {},
   "outputs": [],
   "source": [
    "rv = dfgood['dr2_radial_velocity']"
   ]
  },
  {
   "cell_type": "code",
   "execution_count": null,
   "id": "thousand-wales",
   "metadata": {},
   "outputs": [],
   "source": [
    "len(rv)"
   ]
  },
  {
   "cell_type": "code",
   "execution_count": null,
   "id": "equivalent-sweet",
   "metadata": {},
   "outputs": [],
   "source": [
    "plt.figure()\n",
    "plt.hist(rv,bins=100)\n",
    "plt.yscale('log')\n",
    "\n",
    "1"
   ]
  },
  {
   "cell_type": "code",
   "execution_count": null,
   "id": "supposed-circuit",
   "metadata": {},
   "outputs": [],
   "source": [
    "x,y,z"
   ]
  },
  {
   "cell_type": "code",
   "execution_count": null,
   "id": "lesbian-china",
   "metadata": {},
   "outputs": [],
   "source": [
    "rv"
   ]
  },
  {
   "cell_type": "code",
   "execution_count": null,
   "id": "fresh-witch",
   "metadata": {},
   "outputs": [],
   "source": [
    "df.columns"
   ]
  },
  {
   "cell_type": "code",
   "execution_count": null,
   "id": "liked-profile",
   "metadata": {},
   "outputs": [],
   "source": [
    "df['ecl_lon']"
   ]
  },
  {
   "cell_type": "code",
   "execution_count": null,
   "id": "caroline-munich",
   "metadata": {},
   "outputs": [],
   "source": [
    "dfgood['parallax']"
   ]
  },
  {
   "cell_type": "code",
   "execution_count": null,
   "id": "invisible-victorian",
   "metadata": {},
   "outputs": [],
   "source": [
    "#!pip install plotly"
   ]
  },
  {
   "cell_type": "code",
   "execution_count": null,
   "id": "continuing-hebrew",
   "metadata": {},
   "outputs": [],
   "source": [
    "import plotly.express as px\n",
    "import plotly.graph_objects as go\n"
   ]
  },
  {
   "cell_type": "code",
   "execution_count": null,
   "id": "clean-wrong",
   "metadata": {},
   "outputs": [],
   "source": [
    "#px.scatter_3d(x,y,z,'.')\n",
    "fig = go.Figure(data=[go.Scatter3d(x=x, y=y, z=z,\n",
    "                                   mode='markers', marker=dict(size=1))])\n",
    "\n",
    "fig.show()"
   ]
  },
  {
   "cell_type": "code",
   "execution_count": null,
   "id": "closing-berlin",
   "metadata": {},
   "outputs": [],
   "source": []
  },
  {
   "cell_type": "markdown",
   "id": "metropolitan-advance",
   "metadata": {},
   "source": [
    "Proper motion\n",
    "\n",
    "https://gea.esac.esa.int/archive/documentation/GEDR3/Gaia_archive/chap_datamodel/sec_dm_main_tables/ssec_dm_gaia_source.html\n",
    "    \n",
    "\n",
    "https://en.wikipedia.org/wiki/Proper_motion#:~:text=Proper%20motion%20is%20the%20astrometric,of%20the%20more%20distant%20stars.\n",
    "    \n",
    " \n",
    "pmra,pmdec\n",
    "    "
   ]
  },
  {
   "cell_type": "code",
   "execution_count": null,
   "id": "super-webcam",
   "metadata": {},
   "outputs": [],
   "source": [
    "pmra = dfgood['pmra']\n",
    "pmdec = dfgood['pmdec']"
   ]
  },
  {
   "cell_type": "code",
   "execution_count": null,
   "id": "instructional-beginning",
   "metadata": {},
   "outputs": [],
   "source": [
    "#mask = pmdec<1600\n",
    "mask = pmdec<1000\n",
    "\n",
    "\n",
    "#plt.plot(pmra[mask],pmdec[mask],'.')"
   ]
  },
  {
   "cell_type": "code",
   "execution_count": null,
   "id": "vocational-bandwidth",
   "metadata": {},
   "outputs": [],
   "source": [
    "p = dfgood['parallax']\n",
    "pm = dfgood['pm']\n",
    "\n",
    "\n",
    "conversion = 0.001 # Convert milliarcsec to arcsec\n",
    "one_over_p = 1/(p*conversion)\n",
    "distance = one_over_p\n",
    "\n",
    "vmag = np.sqrt(rv[mask]**2 + (distance[mask]*(pm[mask]/3.1e8))**2)"
   ]
  },
  {
   "cell_type": "code",
   "execution_count": null,
   "id": "wanted-rental",
   "metadata": {},
   "outputs": [],
   "source": [
    "plt.hist(vmag,bins=100,range=(0,1000));"
   ]
  },
  {
   "cell_type": "code",
   "execution_count": null,
   "id": "premier-provision",
   "metadata": {},
   "outputs": [],
   "source": [
    "plt.figure(figsize=(12,5))\n",
    "plt.subplot(1,2,1)\n",
    "\n",
    "plt.hist(rv[mask],bins=100,range=(0,1000));\n",
    "\n",
    "plt.subplot(1,2,2)\n",
    "\n",
    "plt.hist(distance[mask]*pm[mask]/3.1e8,bins=100,range=(0,0.001))\n",
    "\n",
    "1;"
   ]
  },
  {
   "cell_type": "code",
   "execution_count": null,
   "id": "wireless-capability",
   "metadata": {},
   "outputs": [],
   "source": [
    "plt.hist(pm[mask]/3.1e8,bins=100);"
   ]
  },
  {
   "cell_type": "code",
   "execution_count": null,
   "id": "isolated-triumph",
   "metadata": {},
   "outputs": [],
   "source": [
    "max(distance[mask]*pm[mask]/3.1e8)"
   ]
  },
  {
   "cell_type": "code",
   "execution_count": null,
   "id": "legal-operations",
   "metadata": {},
   "outputs": [],
   "source": [
    "nvals = len(df)\n",
    "print(nvals)\n",
    "\n",
    "nsamples = 100000\n",
    "\n",
    "x = np.arange(0,nvals,1).astype(int)\n",
    "np.random.shuffle(x)\n",
    "\n",
    "indices = x[0:nsamples]\n",
    "\n",
    "#print(indices)\n",
    "\n",
    "df_sample = df.iloc[indices]\n",
    "\n",
    "name = f\"gaia_subset_n{nsamples}.h5\"\n",
    "\n",
    "df_sample.to_hdf(name,'df')\n",
    "\n",
    "df_sample\n",
    "\n",
    "p = df_sample['parallax']\n",
    "\n",
    "#mask = (p_org>0.1) & (ra_org == ra_org)\n",
    "mask = (p>0.1)\n",
    "\n",
    "\n",
    "#ra = ra_org[mask].values\n",
    "#dec = dec_org[mask].values\n",
    "\n",
    "l = df_sample[mask]['l'].values\n",
    "b = df_sample[mask]['b'].values\n",
    "\n",
    "p = p[mask].values\n",
    "            \n",
    "\n",
    "#x,y,z = galactic_coordinates(ra, dec, p)\n",
    "x,y,z = galactic_coordinates(l, b, p)"
   ]
  },
  {
   "cell_type": "code",
   "execution_count": null,
   "id": "incorrect-moses",
   "metadata": {},
   "outputs": [],
   "source": [
    "fig = go.Figure(data=[go.Scatter3d(x=x, y=y, z=z,\n",
    "                                   mode='markers', marker=dict(size=1))])\n",
    "\n",
    "fig.show()"
   ]
  },
  {
   "cell_type": "markdown",
   "id": "municipal-evening",
   "metadata": {},
   "source": [
    "# Animation"
   ]
  },
  {
   "cell_type": "code",
   "execution_count": null,
   "id": "limited-differential",
   "metadata": {},
   "outputs": [],
   "source": [
    "from matplotlib.animation import FuncAnimation, FFMpegWriter\n",
    "from matplotlib import rc\n",
    "from matplotlib import cm, colors\n",
    "\n",
    "import matplotlib.animation as animation\n"
   ]
  },
  {
   "cell_type": "code",
   "execution_count": null,
   "id": "alike-annual",
   "metadata": {},
   "outputs": [],
   "source": [
    "len(df)"
   ]
  },
  {
   "cell_type": "code",
   "execution_count": null,
   "id": "dietary-cross",
   "metadata": {},
   "outputs": [],
   "source": [
    "nsamples = 1000\n",
    "\n",
    "x = np.arange(0,nvals,1).astype(int)\n",
    "np.random.shuffle(x)\n",
    "\n",
    "indices = x[0:nsamples]\n",
    "\n",
    "#print(indices)\n",
    "\n",
    "df_sample = df.iloc[indices]\n"
   ]
  },
  {
   "cell_type": "code",
   "execution_count": null,
   "id": "numeric-stick",
   "metadata": {},
   "outputs": [],
   "source": [
    "fig = plt.figure(figsize=(12,8))   #plotting\n",
    "ax = plt.axes(xlim=(-0,360), ylim=(-100,100))\n",
    "\n",
    "time_text = ax.text(0.02, 0.95, '', transform=ax.transAxes)\n",
    "\n",
    "plt.xlabel(\"Right Ascension\")\n",
    "plt.ylabel(\"Declination\")\n",
    "plt.title(\"RA vs DEC\" )\n",
    "\n",
    "\n",
    "ra = df_sample['ra'].values\n",
    "dec = df_sample['dec'].values\n",
    "\n",
    "pmra = df_sample['pmra'].values\n",
    "pmdec = df_sample['pmdec'].values\n",
    "\n",
    "print(len(distance))\n",
    "print(len(ra))\n",
    "\n",
    "parallax = df_sample['parallax'].values\n",
    "\n",
    "P = parallax/1000\n",
    "distance = 1/P    \n",
    "\n",
    "pmmag2 = np.sqrt(pmra**2 + pmdec**2)\n",
    "\n",
    "mask = pmmag<50\n",
    "\n",
    "ra = ra[mask]\n",
    "dec = dec[mask]\n",
    "\n",
    "pmra = pmra[mask]\n",
    "pmdec = pmdec[mask]   \n",
    "\n",
    "distance = distance[mask]\n",
    "\n",
    "print(len(ra), len(pmra))\n",
    "\n",
    "#####################################################################\n",
    "#point, = ax.plot([], [], 'k.', markersize=1)\n",
    "point = ax.scatter([], [],s=10)\n",
    "\n",
    "#### Another approach with scatter plot\n",
    "# https://stackoverflow.com/questions/9401658/how-to-animate-a-scatter-plot\n",
    "\n",
    "def init():\n",
    "    time_text.set_text('')\n",
    "    return point, time_text,\n",
    "\n",
    "def animate(i):\n",
    "    cmap = cm.Blues\n",
    "    dt = 10000\n",
    "    t = i*dt\n",
    "    \n",
    "    x1 = ra + (t*pmra/3.6e6)\n",
    "    y1 = dec + (t*pmdec/3.6e6)\n",
    "    \n",
    "    xy = np.c_[x1, y1]\n",
    "    point.set_offsets(xy)\n",
    "    point.set_sizes(10*1/(distance/1000))\n",
    "\n",
    "    time_text.set_text(str(dt*i)+\" years\")\n",
    "\n",
    "    return point, time_text,\n",
    "\n",
    "plt.close()"
   ]
  },
  {
   "cell_type": "code",
   "execution_count": null,
   "id": "marked-floor",
   "metadata": {},
   "outputs": [],
   "source": [
    "    \n",
    "npts=500\n",
    "\n",
    "anim = FuncAnimation(fig, animate, init_func=init,\n",
    "                               frames=npts, interval=25, blit=True,  save_count=npts)\n"
   ]
  },
  {
   "cell_type": "code",
   "execution_count": null,
   "id": "lonely-booking",
   "metadata": {
    "scrolled": false
   },
   "outputs": [],
   "source": [
    "rc('animation', html='jshtml')\n",
    "anim"
   ]
  },
  {
   "cell_type": "code",
   "execution_count": null,
   "id": "dominant-planner",
   "metadata": {},
   "outputs": [],
   "source": [
    "anim.save('gaia_animation.mp4')\n"
   ]
  },
  {
   "cell_type": "code",
   "execution_count": null,
   "id": "surface-siemens",
   "metadata": {},
   "outputs": [],
   "source": [
    "ra_degrees = df['ra'].values\n",
    "dec_degrees = df['dec'].values\n",
    "\n",
    "pmra = df['pmra'].values\n",
    "pmdec = df['pmdec'].values\n",
    "\n",
    "pmmag = np.sqrt(pmra**2 + pmdec**2)\n",
    "\n",
    "parallax = df['parallax'].values\n",
    "P = parallax/1000\n",
    "distance = 1/P    \n",
    "    \n",
    "plt.figure()\n",
    "plt.hist(pmmag,bins=100,range=(0,50));\n",
    "\n",
    "plt.figure()\n",
    "plt.hist(distance,bins=100,range=(-1,10000));"
   ]
  },
  {
   "cell_type": "code",
   "execution_count": null,
   "id": "injured-eleven",
   "metadata": {},
   "outputs": [],
   "source": [
    "plt.plot(distance[pmmag<50],pmmag[pmmag<50],'.',markersize=1)\n",
    "plt.xlim(0,10000)"
   ]
  },
  {
   "cell_type": "code",
   "execution_count": null,
   "id": "improved-model",
   "metadata": {},
   "outputs": [],
   "source": [
    "plt.figure()\n",
    "plt.scatter([0,1],[0,1],marker='o',s=np.array([10,20]))"
   ]
  },
  {
   "cell_type": "code",
   "execution_count": null,
   "id": "digital-transformation",
   "metadata": {},
   "outputs": [],
   "source": [
    "? plt.scatter"
   ]
  },
  {
   "cell_type": "code",
   "execution_count": null,
   "id": "phantom-grain",
   "metadata": {},
   "outputs": [],
   "source": []
  }
 ],
 "metadata": {
  "kernelspec": {
   "display_name": "Python 3 (ipykernel)",
   "language": "python",
   "name": "python3"
  },
  "language_info": {
   "codemirror_mode": {
    "name": "ipython",
    "version": 3
   },
   "file_extension": ".py",
   "mimetype": "text/x-python",
   "name": "python",
   "nbconvert_exporter": "python",
   "pygments_lexer": "ipython3",
   "version": "3.9.7"
  }
 },
 "nbformat": 4,
 "nbformat_minor": 5
}
