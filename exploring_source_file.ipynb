{
 "cells": [
  {
   "cell_type": "code",
   "execution_count": null,
   "metadata": {},
   "outputs": [],
   "source": [
    "import numpy as np\n",
    "import matplotlib.pylab as plt\n",
    "import pandas as pd\n",
    "\n",
    "import os\n",
    "\n",
    "import datashader as ds\n",
    "import colorcet\n",
    "\n",
    "\n",
    "#, pandas as pd, colorcet\n",
    "#df  = pd.read_csv('census.csv')\n",
    "#cvs = ds.Canvas(plot_width=850, plot_height=500)\n",
    "#agg = cvs.points(df, 'longitude', 'latitude')\n",
    "#img = ds.tf.shade(agg, cmap=colorcet.fire, how='log')\n",
    "\n"
   ]
  },
  {
   "cell_type": "code",
   "execution_count": null,
   "metadata": {},
   "outputs": [],
   "source": [
    "from astropy import units as u\n",
    "from astropy.coordinates import SkyCoord"
   ]
  },
  {
   "cell_type": "code",
   "execution_count": null,
   "metadata": {},
   "outputs": [],
   "source": [
    "#infilenames = ['GaiaSource_000000-003111.csv.gz']\n",
    "#infilenames += ['GaiaSource_668805-668856.csv.gz']\n",
    "#infilenames += ['GaiaSource_472714-472767.csv.gz']\n",
    "#infilenames += ['GaiaSource_786097-786431.csv.gz']\n",
    "\n",
    "\n",
    "path = '/home/bellis/GAIA_data'\n",
    "\n",
    "files = (filename for filename in os.listdir(path)\n",
    "         if os.path.isfile(os.path.join(path,filename)) and filename.find('.h5')>=0)\n",
    "    \n",
    "\n",
    "infilenames = []\n",
    "icount = 0\n",
    "for f in files:\n",
    "    infilenames.append(f\"{path}/{f}\")\n",
    "    #print(f)\n",
    "    icount += 1\n",
    "    if icount>=5:\n",
    "        break\n",
    "          \n",
    "print(f\"# files: {len(infilenames)}\")"
   ]
  },
  {
   "cell_type": "code",
   "execution_count": null,
   "metadata": {},
   "outputs": [],
   "source": [
    "li = []\n",
    "\n",
    "for infilename in infilenames:\n",
    "    print(infilename)\n",
    "    df = None\n",
    "    if infilename.find('.csv.gz')>=0:\n",
    "        df = pd.read_csv(infilename, compression='gzip')\n",
    "    elif infilename.find('.h5')>=0:\n",
    "        df = pd.read_hdf(infilename)\n",
    "\n",
    "    li.append(df)\n",
    "    \n",
    "df = pd.concat(li, axis=0, ignore_index=True)\n",
    "    "
   ]
  },
  {
   "cell_type": "markdown",
   "metadata": {},
   "source": [
    "Should also check out VisIt\n",
    "\n",
    "https://visit-dav.github.io/visit-website/about/\n",
    "\n",
    "And Paraview\n",
    "\n",
    "https://www.paraview.org/\n"
   ]
  },
  {
   "cell_type": "code",
   "execution_count": null,
   "metadata": {},
   "outputs": [],
   "source": [
    "#df = pd.read_hdf(infilenames[0])\n",
    "cvs = ds.Canvas(plot_width=850, plot_height=500)\n",
    "agg = cvs.points(df, 'ra', 'dec')\n",
    "img = ds.tf.shade(agg, cmap=colorcet.fire, how='log')\n",
    "\n",
    "img"
   ]
  },
  {
   "cell_type": "markdown",
   "metadata": {},
   "source": [
    "# Write out small sample\n",
    "\n"
   ]
  },
  {
   "cell_type": "code",
   "execution_count": null,
   "metadata": {},
   "outputs": [],
   "source": [
    "nvals = len(df)\n",
    "print(nvals)\n",
    "\n",
    "nsamples = 100\n",
    "\n",
    "x = np.arange(0,nvals,1).astype(int)\n",
    "np.random.shuffle(x)\n",
    "\n",
    "indices = x[0:nsamples]\n",
    "\n",
    "print(indices)\n",
    "\n",
    "df_sample = df.iloc[indices]\n",
    "\n",
    "name = f\"gaia_subset_n{nsamples}.h5\"\n",
    "\n",
    "df_sample.to_hdf(name,'df')\n",
    "\n",
    "df_sample\n",
    "\n",
    "plt.figure()\n",
    "plt.plot(df_sample['ra'],df_sample['dec'],'.',markersize=1)"
   ]
  },
  {
   "cell_type": "code",
   "execution_count": null,
   "metadata": {},
   "outputs": [],
   "source": [
    "len(df_sample)"
   ]
  },
  {
   "cell_type": "markdown",
   "metadata": {},
   "source": [
    "[GAIA source documentation](https://gea.esac.esa.int/archive/documentation/GEDR3/Gaia_archive/chap_datamodel/sec_dm_main_tables/ssec_dm_gaia_source.html)"
   ]
  },
  {
   "cell_type": "code",
   "execution_count": null,
   "metadata": {},
   "outputs": [],
   "source": [
    "df.columns"
   ]
  },
  {
   "cell_type": "code",
   "execution_count": null,
   "metadata": {},
   "outputs": [],
   "source": [
    "np.unique(df['dr2_radial_velocity'])"
   ]
  },
  {
   "cell_type": "code",
   "execution_count": null,
   "metadata": {},
   "outputs": [],
   "source": [
    "rv = df['dr2_radial_velocity']\n",
    "rv = rv.dropna()\n",
    "\n",
    "print(f\"{len(rv)} entries with rv as a number\")\n",
    "print(f\"{len(df)} total entries\")"
   ]
  },
  {
   "cell_type": "code",
   "execution_count": null,
   "metadata": {},
   "outputs": [],
   "source": [
    "plt.hist(rv,bins=200);\n",
    "plt.yscale('log')"
   ]
  },
  {
   "cell_type": "code",
   "execution_count": null,
   "metadata": {},
   "outputs": [],
   "source": [
    "#dfgood = df[~df['dr2_radial_velocity'].isnull()]\n",
    "dfgood = df"
   ]
  },
  {
   "cell_type": "code",
   "execution_count": null,
   "metadata": {},
   "outputs": [],
   "source": [
    "len(dfgood)\n",
    "\n",
    "dfgood['ra']"
   ]
  },
  {
   "cell_type": "code",
   "execution_count": null,
   "metadata": {},
   "outputs": [],
   "source": [
    "x = dfgood['dr2_radial_velocity']\n",
    "y = dfgood['phot_g_mean_mag']\n",
    "y0 = df['phot_g_mean_mag']\n",
    "\n",
    "plt.figure(figsize=(12,8))\n",
    "plt.hist(y0,bins=50,range=(0,25))\n",
    "plt.hist(y,bins=50,range=(0,25));"
   ]
  },
  {
   "cell_type": "code",
   "execution_count": null,
   "metadata": {},
   "outputs": [],
   "source": [
    "plt.figure(figsize=(8,8))\n",
    "plt.plot(x,y,'.',alpha=0.5,markersize=0.5)"
   ]
  },
  {
   "cell_type": "markdown",
   "metadata": {},
   "source": [
    "https://en.wikipedia.org/wiki/Galactic_coordinate_system\n",
    "\n",
    "https://astronomy.stackexchange.com/questions/35536/transforming-galactic-coordinates-in-cartesian-with-distance\n",
    "\n",
    "https://en.wikipedia.org/wiki/Stellar_parallax\n",
    "\n",
    "[Parsec](https://en.wikipedia.org/wiki/Parsec) is the units for $1/\\textrm{parallax}$. 1 parsec = 3.26 light-years.\n",
    "\n",
    "I think the units of parsecs is milliarcsecs (mas).\n",
    "\n",
    "What to do about negative parallax?\n",
    "\n",
    "https://astronomy.stackexchange.com/questions/26250/what-is-the-proper-interpretation-of-a-negative-parallax\n",
    "\n",
    "Also, ecliptic coordinates are in the data\n",
    "\n",
    "https://en.wikipedia.org/wiki/Ecliptic_coordinate_system\n",
    "\n",
    "and l and b are in there explicitly. "
   ]
  },
  {
   "cell_type": "code",
   "execution_count": null,
   "metadata": {},
   "outputs": [],
   "source": [
    "c_icrs = SkyCoord(ra=10.68458*u.degree, dec=41.26917*u.degree, frame='icrs')\n",
    "c_icrs.galactic"
   ]
  },
  {
   "cell_type": "code",
   "execution_count": null,
   "metadata": {},
   "outputs": [],
   "source": [
    "#def galactic_coordinates(ra, dec, parallax):\n",
    "def galactic_coordinates(l, b, parallax):\n",
    "\n",
    "    #c = SkyCoord(ra=ra*u.degree, dec=dec*u.degree, frame='icrs')\n",
    "    \n",
    "    #l = c.galactic.l.rad\n",
    "    #b = c.galactic.b.rad\n",
    "    \n",
    "    lrad = np.deg2rad(l)\n",
    "    brad = np.deg2rad(b)\n",
    "    \n",
    "    # Assume that parallax is passed in as milliarcsec\n",
    "    conversion = 0.001 # Convert milliarcsec to arcsec\n",
    "    one_over_p = 1/(parallax*conversion)\n",
    "\n",
    "    x = one_over_p*np.cos(brad)*np.cos(lrad)\n",
    "    y = one_over_p*np.cos(brad)*np.sin(lrad)\n",
    "    z = one_over_p*np.sin(brad)\n",
    "    \n",
    "    return x,y,z\n",
    "    "
   ]
  },
  {
   "cell_type": "code",
   "execution_count": null,
   "metadata": {},
   "outputs": [],
   "source": [
    "ra_org = dfgood['ra']\n",
    "dec_org = dfgood['dec']\n",
    "p_org = dfgood['parallax']\n",
    "\n",
    "l_org = dfgood['l']\n",
    "b_org = dfgood['b']\n"
   ]
  },
  {
   "cell_type": "code",
   "execution_count": null,
   "metadata": {
    "scrolled": false
   },
   "outputs": [],
   "source": [
    "plt.figure(figsize=(12,5))\n",
    "plt.subplot(1,3,1)\n",
    "plt.hist(ra_org,bins=50)\n",
    "\n",
    "plt.subplot(1,3,2)\n",
    "plt.hist(dec_org,bins=50)\n",
    "\n",
    "plt.subplot(1,3,3)\n",
    "plt.hist(p_org,bins=50)\n",
    "\n",
    "plt.figure(figsize=(12,12))\n",
    "plt.plot(ra_org,dec_org,'.',markersize=0.5,alpha=0.2)\n",
    "\n",
    "plt.figure(figsize=(8,8))\n",
    "plt.subplot(2,2,1)\n",
    "plt.hist(p_org,bins=50)\n",
    "\n",
    "\n",
    "plt.subplot(2,2,2)\n",
    "plt.hist(p_org[(p_org<50) & (p_org>0)],bins=50)\n",
    "\n",
    "plt.subplot(2,2,3)\n",
    "plt.hist(p_org[p_org>50],bins=50)\n",
    "\n",
    "plt.subplot(2,2,4)\n",
    "plt.hist(p_org[p_org<0.1],bins=50)\n",
    "\n",
    "plt.figure()\n",
    "plt.hist(1/p_org,bins=100)\n",
    "\n",
    "1"
   ]
  },
  {
   "cell_type": "code",
   "execution_count": null,
   "metadata": {},
   "outputs": [],
   "source": [
    "x,y,z = galactic_coordinates(10,20,0.5)\n",
    "\n",
    "print(x,y,z)"
   ]
  },
  {
   "cell_type": "markdown",
   "metadata": {},
   "source": [
    "Someone else's visualization of within 3000 parsecs\n",
    "\n",
    "https://www.cosmos.esa.int/web/gaia/iow_20180614"
   ]
  },
  {
   "cell_type": "code",
   "execution_count": null,
   "metadata": {},
   "outputs": [],
   "source": [
    "#mask = (p_org>0.1) & (ra_org == ra_org)\n",
    "mask = (p_org>0.1)\n",
    "\n",
    "\n",
    "#ra = ra_org[mask].values\n",
    "#dec = dec_org[mask].values\n",
    "\n",
    "l = l_org[mask].values\n",
    "b = b_org[mask].values\n",
    "\n",
    "p = p_org[mask].values\n",
    "            \n",
    "\n",
    "#x,y,z = galactic_coordinates(ra, dec, p)\n",
    "x,y,z = galactic_coordinates(l, b, p)\n",
    "\n",
    "\n",
    "#fig = plt.figure(figsize=(8,8))\n",
    "#ax = fig.add_subplot(projection='3d')\n",
    "#\n",
    "#plt.plot(x,y,z,'.',markersize=0.5,alpha=0.2)"
   ]
  },
  {
   "cell_type": "code",
   "execution_count": null,
   "metadata": {},
   "outputs": [],
   "source": [
    "plt.figure(figsize=(12,5))\n",
    "plt.subplot(1,3,1)\n",
    "plt.hist(x,bins=50)\n",
    "\n",
    "plt.subplot(1,3,2)\n",
    "plt.hist(y,bins=50)\n",
    "\n",
    "plt.subplot(1,3,3)\n",
    "plt.hist(z,bins=50)\n",
    "\n",
    "1"
   ]
  },
  {
   "cell_type": "code",
   "execution_count": null,
   "metadata": {},
   "outputs": [],
   "source": [
    "rv = dfgood['dr2_radial_velocity']"
   ]
  },
  {
   "cell_type": "code",
   "execution_count": null,
   "metadata": {},
   "outputs": [],
   "source": [
    "len(rv)"
   ]
  },
  {
   "cell_type": "code",
   "execution_count": null,
   "metadata": {},
   "outputs": [],
   "source": [
    "plt.figure()\n",
    "plt.hist(rv,bins=100)\n",
    "plt.yscale('log')\n",
    "\n",
    "1"
   ]
  },
  {
   "cell_type": "code",
   "execution_count": null,
   "metadata": {},
   "outputs": [],
   "source": [
    "x,y,z"
   ]
  },
  {
   "cell_type": "code",
   "execution_count": null,
   "metadata": {},
   "outputs": [],
   "source": [
    "rv"
   ]
  },
  {
   "cell_type": "code",
   "execution_count": null,
   "metadata": {},
   "outputs": [],
   "source": [
    "df.columns"
   ]
  },
  {
   "cell_type": "code",
   "execution_count": null,
   "metadata": {},
   "outputs": [],
   "source": [
    "df['ecl_lon']"
   ]
  },
  {
   "cell_type": "code",
   "execution_count": null,
   "metadata": {},
   "outputs": [],
   "source": [
    "dfgood['parallax']"
   ]
  },
  {
   "cell_type": "code",
   "execution_count": null,
   "metadata": {},
   "outputs": [],
   "source": [
    "#!pip install plotly"
   ]
  },
  {
   "cell_type": "code",
   "execution_count": null,
   "metadata": {},
   "outputs": [],
   "source": [
    "import plotly.express as px\n",
    "import plotly.graph_objects as go\n"
   ]
  },
  {
   "cell_type": "code",
   "execution_count": null,
   "metadata": {},
   "outputs": [],
   "source": [
    "#px.scatter_3d(x,y,z,'.')\n",
    "fig = go.Figure(data=[go.Scatter3d(x=x, y=y, z=z,\n",
    "                                   mode='markers', marker=dict(size=1))])\n",
    "\n",
    "fig.show()"
   ]
  },
  {
   "cell_type": "code",
   "execution_count": null,
   "metadata": {},
   "outputs": [],
   "source": []
  },
  {
   "cell_type": "markdown",
   "metadata": {},
   "source": [
    "Proper motion\n",
    "\n",
    "https://gea.esac.esa.int/archive/documentation/GEDR3/Gaia_archive/chap_datamodel/sec_dm_main_tables/ssec_dm_gaia_source.html\n",
    "    \n",
    "\n",
    "https://en.wikipedia.org/wiki/Proper_motion#:~:text=Proper%20motion%20is%20the%20astrometric,of%20the%20more%20distant%20stars.\n",
    "    \n",
    " \n",
    "pmra,pmdec\n",
    "    "
   ]
  },
  {
   "cell_type": "code",
   "execution_count": null,
   "metadata": {},
   "outputs": [],
   "source": [
    "pmra = dfgood['pmra']\n",
    "pmdec = dfgood['pmdec']"
   ]
  },
  {
   "cell_type": "code",
   "execution_count": null,
   "metadata": {},
   "outputs": [],
   "source": [
    "#mask = pmdec<1600\n",
    "mask = pmdec<1000\n",
    "\n",
    "\n",
    "#plt.plot(pmra[mask],pmdec[mask],'.')"
   ]
  },
  {
   "cell_type": "code",
   "execution_count": null,
   "metadata": {},
   "outputs": [],
   "source": [
    "p = dfgood['parallax']\n",
    "pm = dfgood['pm']\n",
    "\n",
    "\n",
    "conversion = 0.001 # Convert milliarcsec to arcsec\n",
    "one_over_p = 1/(p*conversion)\n",
    "distance = one_over_p\n",
    "\n",
    "vmag = np.sqrt(rv[mask]**2 + (distance[mask]*(pm[mask]/3.1e8))**2)"
   ]
  },
  {
   "cell_type": "code",
   "execution_count": null,
   "metadata": {},
   "outputs": [],
   "source": [
    "plt.hist(vmag,bins=100,range=(0,1000));"
   ]
  },
  {
   "cell_type": "code",
   "execution_count": null,
   "metadata": {},
   "outputs": [],
   "source": [
    "plt.figure(figsize=(12,5))\n",
    "plt.subplot(1,2,1)\n",
    "\n",
    "plt.hist(rv[mask],bins=100,range=(0,1000));\n",
    "\n",
    "plt.subplot(1,2,2)\n",
    "\n",
    "plt.hist(distance[mask]*pm[mask]/3.1e8,bins=100,range=(0,0.001))\n",
    "\n",
    "1;"
   ]
  },
  {
   "cell_type": "code",
   "execution_count": null,
   "metadata": {},
   "outputs": [],
   "source": [
    "plt.hist(pm[mask]/3.1e8,bins=100);"
   ]
  },
  {
   "cell_type": "code",
   "execution_count": null,
   "metadata": {},
   "outputs": [],
   "source": [
    "max(distance[mask]*pm[mask]/3.1e8)"
   ]
  },
  {
   "cell_type": "code",
   "execution_count": null,
   "metadata": {},
   "outputs": [],
   "source": [
    "nvals = len(df)\n",
    "print(nvals)\n",
    "\n",
    "nsamples = 100000\n",
    "\n",
    "x = np.arange(0,nvals,1).astype(int)\n",
    "np.random.shuffle(x)\n",
    "\n",
    "indices = x[0:nsamples]\n",
    "\n",
    "#print(indices)\n",
    "\n",
    "df_sample = df.iloc[indices]\n",
    "\n",
    "name = f\"gaia_subset_n{nsamples}.h5\"\n",
    "\n",
    "df_sample.to_hdf(name,'df')\n",
    "\n",
    "df_sample\n",
    "\n",
    "p = df_sample['parallax']\n",
    "\n",
    "#mask = (p_org>0.1) & (ra_org == ra_org)\n",
    "mask = (p>0.1)\n",
    "\n",
    "\n",
    "#ra = ra_org[mask].values\n",
    "#dec = dec_org[mask].values\n",
    "\n",
    "l = df_sample[mask]['l'].values\n",
    "b = df_sample[mask]['b'].values\n",
    "\n",
    "p = p[mask].values\n",
    "            \n",
    "\n",
    "#x,y,z = galactic_coordinates(ra, dec, p)\n",
    "x,y,z = galactic_coordinates(l, b, p)"
   ]
  },
  {
   "cell_type": "code",
   "execution_count": null,
   "metadata": {},
   "outputs": [],
   "source": [
    "fig = go.Figure(data=[go.Scatter3d(x=x, y=y, z=z,\n",
    "                                   mode='markers', marker=dict(size=1))])\n",
    "\n",
    "fig.show()"
   ]
  },
  {
   "cell_type": "markdown",
   "metadata": {},
   "source": [
    "# Animation"
   ]
  },
  {
   "cell_type": "code",
   "execution_count": null,
   "metadata": {},
   "outputs": [],
   "source": [
    "from matplotlib.animation import FuncAnimation, FFMpegWriter\n",
    "from matplotlib import rc\n",
    "from matplotlib import cm, colors"
   ]
  },
  {
   "cell_type": "code",
   "execution_count": null,
   "metadata": {},
   "outputs": [],
   "source": [
    "len(df)"
   ]
  },
  {
   "cell_type": "code",
   "execution_count": null,
   "metadata": {},
   "outputs": [],
   "source": [
    "ra = df['ra'].values\n",
    "dec = df['dec'].values\n",
    "\n",
    "pmra = df['pmra'].values\n",
    "pmdec = df['pmdec'].values\n",
    "\n",
    "parallax = df['parallax'].values\n",
    "P = parallax/1000\n",
    "distance = 1/P    \n",
    "\n",
    "pmmag = np.sqrt(pmra**2 + pmdec**2)\n",
    "\n",
    "mask = pmmag<5\n",
    "\n",
    "ra = ra[mask]\n",
    "dec = dec[mask]\n",
    "\n",
    "pmra = pmra[mask]\n",
    "pmdec = pmdec[mask]    \n",
    "\n",
    "print(len(ra), len(pmra))\n",
    "\n",
    "def init():\n",
    "    point.set_data([], [])\n",
    "    time_text.set_text('')\n",
    "    return point, time_text,\n",
    "\n",
    "def animate(i):\n",
    "    cmap = cm.Blues\n",
    "    dt = 500000\n",
    "    t = i*dt\n",
    "    x1 = []\n",
    "    y1 = []\n",
    "    z1 = []\n",
    "    \n",
    "    #print(\"ra: \",len(ra), \"   pmra: \",len(pmra))\n",
    "    x1 = ra + (t*pmra/3.6e6)\n",
    "    y1 = dec + (t*pmdec/3.6e6)\n",
    "    \n",
    "    '''\n",
    "    for n in range(0,len(df['ra'])-1):\n",
    "        \n",
    "\n",
    "        #1 km/sec = 1.02x10^-4 pc/century\n",
    "        #ravel_t = pmra*distance\n",
    "        #decvel_t = pmdec*distance\n",
    "    \n",
    "        #print(ravel_t)\n",
    "    \n",
    "        xnew = ra[n]+t*pmra[n]/(3.6e6)\n",
    "        ynew = dec[n]+t*pmdec[n]/(3.6e6)\n",
    "        \n",
    "        x1.append(xnew)\n",
    "        y1.append(ynew)\n",
    "    '''\n",
    "    \n",
    "    point.set_data(x1, y1)\n",
    "    #cp = plt.contourf(x1,y1,z1,40,cmap=cmap)\n",
    "    #plt.colorbar(cp)\n",
    "    time_text.set_text(str(dt*i)+\" years\")\n",
    "\n",
    "    return point, time_text,"
   ]
  },
  {
   "cell_type": "code",
   "execution_count": null,
   "metadata": {},
   "outputs": [],
   "source": [
    "fig = plt.figure()   #plotting\n",
    "ax = plt.axes(xlim=(-0,360), ylim=(-100,100))\n",
    "\n",
    "line, = ax.plot([], [], lw=3)\n",
    "time_text = ax.text(0.02, 0.95, '', transform=ax.transAxes)\n",
    "\n",
    "point, = ax.plot([], [], 'k.', markersize=1)\n",
    "    \n",
    "plt.xlabel(\"Right Ascension\")\n",
    "plt.ylabel(\"Declination\")\n",
    "plt.title(\"RA vs DEC\" )\n",
    "    \n",
    "npts=500\n",
    "\n",
    "anim = FuncAnimation(fig, animate, init_func=init,\n",
    "                               frames=npts, interval=25, blit=True,  save_count=npts)\n",
    "plt.close()"
   ]
  },
  {
   "cell_type": "code",
   "execution_count": null,
   "metadata": {},
   "outputs": [],
   "source": [
    "rc('animation', html='jshtml')\n",
    "anim"
   ]
  },
  {
   "cell_type": "code",
   "execution_count": null,
   "metadata": {},
   "outputs": [],
   "source": [
    "#anim.save('anitest.gif')"
   ]
  },
  {
   "cell_type": "code",
   "execution_count": null,
   "metadata": {},
   "outputs": [],
   "source": [
    "ra_degrees = df['ra'].values\n",
    "dec_degrees = df['dec'].values\n",
    "\n",
    "pmra = df['pmra'].values\n",
    "pmdec = df['pmdec'].values\n",
    "\n",
    "pmmag = np.sqrt(pmra**2 + pmdec**2)\n",
    "\n",
    "parallax = df['parallax'].values\n",
    "P = parallax/1000\n",
    "distance = 1/P    \n",
    "    \n",
    "plt.figure\n",
    "plt.hist(pmmag,bins=100);\n",
    "\n",
    "plt.figure()\n",
    "plt.hist(distance,bins=100,range=(-1,20000));"
   ]
  },
  {
   "cell_type": "code",
   "execution_count": null,
   "metadata": {},
   "outputs": [],
   "source": [
    "plt.plot(distance[pmmag<25],pmmag[pmmag<25],'.',markersize=1)\n",
    "plt.xlim(0,10000)"
   ]
  },
  {
   "cell_type": "code",
   "execution_count": null,
   "metadata": {},
   "outputs": [],
   "source": []
  },
  {
   "cell_type": "code",
   "execution_count": null,
   "metadata": {},
   "outputs": [],
   "source": []
  }
 ],
 "metadata": {
  "kernelspec": {
   "display_name": "Python 3",
   "language": "python",
   "name": "python3"
  },
  "language_info": {
   "codemirror_mode": {
    "name": "ipython",
    "version": 3
   },
   "file_extension": ".py",
   "mimetype": "text/x-python",
   "name": "python",
   "nbconvert_exporter": "python",
   "pygments_lexer": "ipython3",
   "version": "3.7.4"
  }
 },
 "nbformat": 4,
 "nbformat_minor": 5
}
