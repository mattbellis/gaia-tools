{
 "cells": [
  {
   "cell_type": "code",
   "execution_count": null,
   "id": "65370780",
   "metadata": {},
   "outputs": [],
   "source": [
    "import numpy as np\n",
    "import matplotlib.pylab as plt\n",
    "import pandas as pd\n",
    "\n",
    "import os\n",
    "\n",
    "import datashader as ds\n",
    "import colorcet\n",
    "\n",
    "# This is an edit. \n",
    "\n",
    "#, pandas as pd, colorcet\n",
    "#df  = pd.read_csv('census.csv')\n",
    "#cvs = ds.Canvas(plot_width=850, plot_height=500)\n",
    "#agg = cvs.points(df, 'longitude', 'latitude')\n",
    "#img = ds.tf.shade(agg, cmap=colorcet.fire, how='log')\n",
    "\n"
   ]
  },
  {
   "cell_type": "code",
   "execution_count": null,
   "id": "80fb1e3c",
   "metadata": {},
   "outputs": [],
   "source": [
    "from astropy import units as u\n",
    "from astropy.coordinates import SkyCoord,Galactocentric\n",
    "\n",
    "import astropy.coordinates as coord\n"
   ]
  },
  {
   "cell_type": "code",
   "execution_count": null,
   "id": "a8d5b361",
   "metadata": {},
   "outputs": [],
   "source": [
    "#infilenames = ['GaiaSource_000000-003111.csv.gz']\n",
    "#infilenames += ['GaiaSource_668805-668856.csv.gz']\n",
    "#infilenames += ['GaiaSource_472714-472767.csv.gz']\n",
    "#infilenames += ['GaiaSource_786097-786431.csv.gz']\n",
    "\n",
    "\n",
    "path = '/home/bellis/GAIA_data'\n",
    "#path = '/home/bellis/GAIA/'\n",
    "\n",
    "\n",
    "\n",
    "files = (filename for filename in os.listdir(path)\n",
    "         if os.path.isfile(os.path.join(path,filename)) and filename.find('.h5')>=0)\n",
    "    \n",
    "\n",
    "infilenames = []\n",
    "icount = 0\n",
    "for f in files:\n",
    "    infilenames.append(f\"{path}/{f}\")\n",
    "    #print(f)\n",
    "    icount += 1\n",
    "    #if icount>=5:\n",
    "    #    break\n",
    "          \n",
    "print(f\"# files: {len(infilenames)}\")"
   ]
  },
  {
   "cell_type": "code",
   "execution_count": null,
   "id": "91f485d8",
   "metadata": {},
   "outputs": [],
   "source": [
    "li = []\n",
    "\n",
    "nfiles = len(infilenames)\n",
    "\n",
    "#for infilename in infilenames[0:5]:\n",
    "for i,infilename in enumerate(infilenames):\n",
    "\n",
    "    if i%100==0:\n",
    "        print(i,nfiles,infilename)\n",
    "        \n",
    "    #print(infilename)\n",
    "    df = None\n",
    "    if infilename.find('.csv.gz')>=0:\n",
    "        df = pd.read_csv(infilename, compression='gzip')\n",
    "    elif infilename.find('.h5')>=0:\n",
    "        df = pd.read_hdf(infilename)\n",
    "\n",
    "    li.append(df)\n",
    "    \n",
    "df = pd.concat(li, axis=0, ignore_index=True)\n",
    "    "
   ]
  },
  {
   "cell_type": "markdown",
   "id": "b35bd8fc",
   "metadata": {},
   "source": [
    "Should also check out VisIt\n",
    "\n",
    "https://visit-dav.github.io/visit-website/about/\n",
    "\n",
    "And Paraview\n",
    "\n",
    "https://www.paraview.org/\n"
   ]
  },
  {
   "cell_type": "code",
   "execution_count": null,
   "id": "6ff37fbb",
   "metadata": {},
   "outputs": [],
   "source": [
    "#df = pd.read_hdf(infilenames[0])\n",
    "cvs = ds.Canvas(plot_width=850, plot_height=500)\n",
    "agg = cvs.points(df, 'ra', 'dec')\n",
    "img = ds.tf.shade(agg, cmap=colorcet.fire, how='log')\n",
    "\n",
    "img"
   ]
  },
  {
   "cell_type": "code",
   "execution_count": null,
   "id": "3e8bc43b",
   "metadata": {},
   "outputs": [],
   "source": [
    "df['dr2_radial_velocity'].hist(bins=100)\n",
    "\n",
    "print(len(df))"
   ]
  },
  {
   "cell_type": "code",
   "execution_count": null,
   "id": "75f1622a",
   "metadata": {},
   "outputs": [],
   "source": [
    "cvs = ds.Canvas(plot_width=850, plot_height=500)\n",
    "agg = cvs.points(df, 'l', 'b')\n",
    "img = ds.tf.shade(agg, cmap=colorcet.fire, how='log')\n",
    "\n",
    "img"
   ]
  },
  {
   "cell_type": "code",
   "execution_count": null,
   "id": "d8090db1",
   "metadata": {
    "scrolled": false
   },
   "outputs": [],
   "source": [
    "##Trying what https://galaxiesbook.org/chapters/A.-Coordinate-systems.html did to convert to galactocentric\n",
    "#Based on https://physics.stackexchange.com/questions/244645/negative-parallax, removing overly large values\n",
    "#of negative parallax while accounting for small values that may fall within uncertainties\n",
    "\n",
    "df = df[df['parallax'].notna()]\n",
    "df = df[df['parallax']>=-5] \n",
    "\n",
    "galactic_latitude = df['b'].tolist()\n",
    "galactic_longitude = df['l'].tolist()\n",
    "parallax = df['parallax'].tolist()\n",
    "\n",
    "distance = [1/(n*0.001) for n in parallax]\n",
    "\n",
    "#print(len(distance))\n",
    "coords = []\n",
    "b = galactic_latitude*u.deg    #converting to degrees for the function\n",
    "\n",
    "l = []\n",
    "for i in galactic_longitude:\n",
    "    while abs(i)>=90:                #(unsure) Making the values of longitude fit between -90 and 90 which\n",
    "                                    # is neccesarry for the code to run\n",
    "            if i>0:\n",
    "                i = i-90\n",
    "            else:\n",
    "                i = i+90\n",
    "    l.append(i)\n",
    "l = l*u.deg\n",
    "\n",
    "d=[]\n",
    "for i in distance:\n",
    "    if i<0:\n",
    "        i=0\n",
    "    d.append(i*u.kpc)           #Adding units to distance in kpc\n",
    "            \n",
    "c= SkyCoord(b,l,distance=d,frame='galactic')\n",
    "gc_frame= Galactocentric(galcen_distance=8.1*u.kpc,\n",
    "                                   z_sun=25.*u.pc)\n",
    "gc = c.transform_to(gc_frame)\n",
    "gc.representation_type = 'cylindrical'\n",
    "            \n",
    "print(gc.rho.to(u.kpc).value,gc.phi.degree,gc.z.to(u.kpc).value[1])"
   ]
  },
  {
   "cell_type": "code",
   "execution_count": null,
   "id": "c22e3f81",
   "metadata": {},
   "outputs": [],
   "source": [
    "rho = gc.rho.to(u.kpc).value\n",
    "phi = gc.phi.degree\n",
    "z = gc.z.to(u.kpc).value\n",
    "\n",
    "x = rho*np.cos(phi)\n",
    "y = rho*np.sin(phi)\n",
    "\n",
    "plt.plot(x,y,\"bo\")\n",
    "plt.xlim(-10000000,10000000)\n",
    "plt.ylim(-.4*10**8,.3*10**8)\n",
    "plt.plot([0],[0],\"r*\",label=\"Center of Milky Way\")\n",
    "plt.xlabel(\"Distance (kpcs)\")\n",
    "plt.legend()\n",
    "\n",
    "n = 0\n",
    "m = 0\n",
    "for i in rho:\n",
    "    if i<30:\n",
    "        n += 1\n",
    "    if i>=30:\n",
    "        m += 1\n",
    "print(\"Number of Stars within 30kpc: \"+str(n)+\"\\nNumber of Stars not within 30kpcs: \"+str(m))"
   ]
  },
  {
   "cell_type": "markdown",
   "id": "bce21837",
   "metadata": {},
   "source": [
    "# Bellis galactocentric coordinates edits\n",
    "\n",
    "https://docs.astropy.org/en/stable/generated/examples/coordinates/plot_galactocentric-frame.html"
   ]
  },
  {
   "cell_type": "code",
   "execution_count": null,
   "id": "fafb6bdd",
   "metadata": {},
   "outputs": [],
   "source": [
    "# Demo of converting to galactocentric \n",
    "c1 = coord.SkyCoord(ra=89.014303*u.degree, dec=13.924912*u.degree,\n",
    "                    distance=(37.59*u.mas).to(u.pc, u.parallax()),\n",
    "                    pm_ra_cosdec=372.72*u.mas/u.yr,\n",
    "                    pm_dec=-483.69*u.mas/u.yr,\n",
    "                    radial_velocity=0.37*u.km/u.s,\n",
    "                    frame='icrs')\n",
    "\n",
    "v_sun = [11.1, 244, 7.25] * (u.km / u.s)  # [vx, vy, vz]\n",
    "gc_frame = coord.Galactocentric(\n",
    "    galcen_distance=8*u.kpc,\n",
    "    galcen_v_sun=v_sun,\n",
    "    z_sun=0*u.pc)\n",
    "\n",
    "gc2 = c1.transform_to(gc_frame)\n",
    "print(gc2.v_x, gc2.v_y, gc2.v_z)"
   ]
  },
  {
   "cell_type": "code",
   "execution_count": null,
   "id": "c230b021",
   "metadata": {},
   "outputs": [],
   "source": [
    "# Convert GAIA stuff\n",
    "\n",
    "parallax = df['parallax'] # Units are mas\n",
    "\n",
    "# Let's keep only parallax > 0\n",
    "mask = parallax > 0\n",
    "\n",
    "# We have to get the \"values\", which are numpy arrays\n",
    "# We can't just pass the pandas.Series directly into astropy\n",
    "\n",
    "ra = df['ra'][mask].values\n",
    "dec = df['dec'][mask].values\n",
    "\n",
    "parallax = parallax[mask].values\n",
    "\n",
    "# We won't need this, but just in case we want to plot it later\n",
    "conversion = 0.001 # Convert milliarcsec to arcsec\n",
    "one_over_p = 1/(parallax*conversion) # This would be in units of parsecs\n",
    "\n",
    "# Put in \"normal\" coordinates\n",
    "c1 = coord.SkyCoord(ra=ra*u.degree, dec=dec*u.degree,\n",
    "                    distance=(parallax*u.mas).to(u.pc, u.parallax()),\n",
    "                    frame='icrs')\n",
    "\n",
    "gc1 = c1.transform_to(coord.Galactocentric)\n",
    "\n",
    "\n",
    "# Alternate transformation with velocity of sun\n",
    "# Use this or something like this when we start doing velocity transformations\n",
    "'''\n",
    "gc_frame = coord.Galactocentric(\n",
    "    galcen_distance=8*u.kpc,\n",
    "    galcen_v_sun=v_sun,\n",
    "    z_sun=0*u.pc)\n",
    "\n",
    "\n",
    "gc2 = c1.transform_to(gc_frame)\n",
    "'''\n",
    "#print(gc2.v_x, gc2.v_y, gc2.v_z);\n",
    "\n"
   ]
  },
  {
   "cell_type": "code",
   "execution_count": null,
   "id": "8266b83a",
   "metadata": {},
   "outputs": [],
   "source": [
    "x = gc1.x\n",
    "x.unit\n"
   ]
  },
  {
   "cell_type": "code",
   "execution_count": null,
   "id": "1bd9d382",
   "metadata": {},
   "outputs": [],
   "source": [
    "plt.figure(figsize=(12,8))\n",
    "plt.plot(gc1.x, gc1.y,'.',markersize=0.5, alpha=0.2)\n",
    "\n",
    "plt.plot([0], [0], 'ro', label='Galactic cener (I think)')\n",
    "\n",
    "plt.xlim(-30000,30000)\n",
    "plt.ylim(-30000,30000)\n",
    "\n",
    "plt.legend()\n"
   ]
  },
  {
   "cell_type": "code",
   "execution_count": null,
   "id": "06a9601d",
   "metadata": {},
   "outputs": [],
   "source": [
    "plt.figure(figsize=(12,8))\n",
    "plt.plot(gc1.x, gc1.z,'.',markersize=0.5, alpha=0.2)\n",
    "\n",
    "plt.plot([0], [0], 'ro', label='Galactic cener (I think)')\n",
    "\n",
    "plt.xlim(-30000,30000)\n",
    "plt.ylim(-30000,30000)\n",
    "\n",
    "plt.legend()\n"
   ]
  },
  {
   "cell_type": "code",
   "execution_count": null,
   "id": "a32a3a14",
   "metadata": {},
   "outputs": [],
   "source": [
    "# Zoom in near the sun\n",
    "plt.figure(figsize=(12,8))\n",
    "plt.plot(gc1.x, gc1.y,'.',markersize=0.5, alpha=0.2)\n",
    "\n",
    "plt.plot([0], [0], 'ro', label='Galactic cener (I think)')\n",
    "\n",
    "plt.xlim(-9000,-7000)\n",
    "plt.ylim(-2000,2000)\n",
    "\n",
    "plt.legend()\n"
   ]
  },
  {
   "cell_type": "markdown",
   "id": "b926865d",
   "metadata": {},
   "source": [
    "## Using datashader"
   ]
  },
  {
   "cell_type": "code",
   "execution_count": null,
   "id": "4db86b01",
   "metadata": {},
   "outputs": [],
   "source": [
    "dftest = pd.DataFrame()\n",
    "dftest"
   ]
  },
  {
   "cell_type": "code",
   "execution_count": null,
   "id": "c7ab24e3",
   "metadata": {},
   "outputs": [],
   "source": [
    "dfgc = pd.DataFrame()\n",
    "\n",
    "mask = (gc1.x>-50000*u.pc) & (gc1.x<50000*u.pc) & \\\n",
    "     (gc1.y>-50000*u.pc) & (gc1.y<50000*u.pc) & \\\n",
    "     (gc1.z>-50000*u.pc) & (gc1.z<50000*u.pc)\n",
    "    \n",
    "\n",
    "dfgc['x'] = gc1.x[mask].value\n",
    "dfgc['y'] = gc1.y[mask].value\n",
    "dfgc['z'] = gc1.z[mask].value"
   ]
  },
  {
   "cell_type": "code",
   "execution_count": null,
   "id": "5728c8d3",
   "metadata": {},
   "outputs": [],
   "source": [
    "dfgc"
   ]
  },
  {
   "cell_type": "code",
   "execution_count": null,
   "id": "dc631d3e",
   "metadata": {},
   "outputs": [],
   "source": [
    "cvs = ds.Canvas(plot_width=850, plot_height=500)\n",
    "agg = cvs.points(dfgc, 'x', 'y')\n",
    "img = ds.tf.shade(agg, cmap=colorcet.fire, how='log')\n",
    "\n",
    "img"
   ]
  },
  {
   "cell_type": "code",
   "execution_count": null,
   "id": "7bf54d5e",
   "metadata": {},
   "outputs": [],
   "source": [
    "mask = (dfgc['x'].values>-10000) & (dfgc['x']<10000) & \\\n",
    "       (dfgc['y']>-10000) & (dfgc['y']<10000) & \\\n",
    "       (dfgc['z']>-10000) & (dfgc['z']<10000)\n",
    "\n",
    "cvs = ds.Canvas(plot_width=850, plot_height=500)\n",
    "agg = cvs.points(dfgc[mask], 'x', 'y')\n",
    "img = ds.tf.shade(agg, cmap=colorcet.fire, how='log')\n",
    "\n",
    "img"
   ]
  },
  {
   "cell_type": "code",
   "execution_count": null,
   "id": "02d39254",
   "metadata": {},
   "outputs": [],
   "source": [
    "mask = (dfgc['x'].values>-20000) & (dfgc['x']<20000) & \\\n",
    "       (dfgc['y']>-50000) & (dfgc['y']<50000) & \\\n",
    "       (dfgc['z']>-10000) & (dfgc['z']<10000)\n",
    "\n",
    "cvs = ds.Canvas(plot_width=850, plot_height=500)\n",
    "agg = cvs.points(dfgc[mask], 'x', 'z')\n",
    "img = ds.tf.shade(agg, cmap=colorcet.fire, how='log')\n",
    "\n",
    "img"
   ]
  },
  {
   "cell_type": "code",
   "execution_count": null,
   "id": "e54af9d6",
   "metadata": {},
   "outputs": [],
   "source": [
    "mask = (dfgc['x'].values>-10000) & (dfgc['x']<-6000) & \\\n",
    "       (dfgc['y']>-10000) & (dfgc['y']<10000) & \\\n",
    "       (dfgc['z']>-10000) & (dfgc['z']<10000)\n",
    "\n",
    "cvs = ds.Canvas(plot_width=850, plot_height=500)\n",
    "agg = cvs.points(dfgc[mask], 'x', 'y')\n",
    "img = ds.tf.shade(agg, cmap=colorcet.fire, how='log')\n",
    "\n",
    "img"
   ]
  },
  {
   "cell_type": "code",
   "execution_count": null,
   "id": "61069b48",
   "metadata": {},
   "outputs": [],
   "source": [
    "mask = (dfgc['x'].values>-9000) & (dfgc['x']<-7000) & \\\n",
    "       (dfgc['y']>-1000) & (dfgc['y']<1000) & \\\n",
    "       (dfgc['z']>-10000) & (dfgc['z']<10000)\n",
    "\n",
    "cvs = ds.Canvas(plot_width=850, plot_height=500)\n",
    "agg = cvs.points(dfgc[mask], 'x', 'y')\n",
    "img = ds.tf.shade(agg, cmap=colorcet.fire, how='log')\n",
    "\n",
    "img"
   ]
  },
  {
   "cell_type": "code",
   "execution_count": null,
   "id": "97a91f3d",
   "metadata": {},
   "outputs": [],
   "source": [
    "mask = (dfgc['x'].values>-8500) & (dfgc['x']<-7500) & \\\n",
    "       (dfgc['y']>-500) & (dfgc['y']<500) & \\\n",
    "       (dfgc['z']>-10000) & (dfgc['z']<10000)\n",
    "\n",
    "cvs = ds.Canvas(plot_width=850, plot_height=500)\n",
    "agg = cvs.points(dfgc[mask], 'x', 'y')\n",
    "img = ds.tf.shade(agg, cmap=colorcet.fire, how='log')\n",
    "\n",
    "img"
   ]
  },
  {
   "cell_type": "markdown",
   "id": "69b90d34",
   "metadata": {},
   "source": [
    "# Write out small sample\n",
    "\n"
   ]
  },
  {
   "cell_type": "code",
   "execution_count": null,
   "id": "6fc25970",
   "metadata": {},
   "outputs": [],
   "source": [
    "nvals = len(df)\n",
    "print(nvals)\n",
    "\n",
    "nsamples = 1000\n",
    "\n",
    "x = np.arange(0,nvals,1).astype(int)\n",
    "np.random.shuffle(x)\n",
    "\n",
    "indices = x[0:nsamples]\n",
    "\n",
    "#print(indices)\n",
    "\n",
    "df_sample = df.iloc[indices]\n",
    "\n",
    "name = f\"gaia_subset_n{nsamples}.h5\"\n",
    "\n",
    "#df_sample.to_hdf(name,'df')\n",
    "\n",
    "df_sample\n",
    "\n",
    "plt.figure()\n",
    "plt.plot(df_sample['ra'],df_sample['dec'],'.',markersize=1)"
   ]
  },
  {
   "cell_type": "code",
   "execution_count": null,
   "id": "7768570b",
   "metadata": {},
   "outputs": [],
   "source": [
    "len(df_sample)"
   ]
  },
  {
   "cell_type": "markdown",
   "id": "48b6d17a",
   "metadata": {},
   "source": [
    "[GAIA source documentation](https://gea.esac.esa.int/archive/documentation/GEDR3/Gaia_archive/chap_datamodel/sec_dm_main_tables/ssec_dm_gaia_source.html)"
   ]
  },
  {
   "cell_type": "code",
   "execution_count": null,
   "id": "0dd53808",
   "metadata": {},
   "outputs": [],
   "source": [
    "df.columns"
   ]
  },
  {
   "cell_type": "code",
   "execution_count": null,
   "id": "56942edf",
   "metadata": {},
   "outputs": [],
   "source": [
    "np.unique(df['dr2_radial_velocity'])"
   ]
  },
  {
   "cell_type": "code",
   "execution_count": null,
   "id": "5fe862d4",
   "metadata": {},
   "outputs": [],
   "source": [
    "rv = df['dr2_radial_velocity']\n",
    "rv = rv.dropna()\n",
    "\n",
    "print(f\"{len(rv)} entries with rv as a number\")\n",
    "print(f\"{len(df)} total entries\")"
   ]
  },
  {
   "cell_type": "code",
   "execution_count": null,
   "id": "8b6846b2",
   "metadata": {},
   "outputs": [],
   "source": [
    "plt.hist(rv,bins=200);\n",
    "plt.yscale('log')"
   ]
  },
  {
   "cell_type": "code",
   "execution_count": null,
   "id": "e115557a",
   "metadata": {},
   "outputs": [],
   "source": [
    "#dfgood = df[~df['dr2_radial_velocity'].isnull()]\n",
    "dfgood = df"
   ]
  },
  {
   "cell_type": "code",
   "execution_count": null,
   "id": "3d375a3a",
   "metadata": {},
   "outputs": [],
   "source": [
    "len(dfgood)\n",
    "\n",
    "dfgood['ra']"
   ]
  },
  {
   "cell_type": "code",
   "execution_count": null,
   "id": "9dcbae03",
   "metadata": {},
   "outputs": [],
   "source": [
    "x = dfgood['dr2_radial_velocity']\n",
    "y = dfgood['phot_g_mean_mag']\n",
    "y0 = df['phot_g_mean_mag']\n",
    "\n",
    "plt.figure(figsize=(12,8))\n",
    "plt.hist(y0,bins=50,range=(0,25))\n",
    "plt.hist(y,bins=50,range=(0,25));"
   ]
  },
  {
   "cell_type": "code",
   "execution_count": null,
   "id": "8ab9170d",
   "metadata": {},
   "outputs": [],
   "source": [
    "plt.figure(figsize=(8,8))\n",
    "plt.plot(x,y,'.',alpha=0.5,markersize=0.5)"
   ]
  },
  {
   "cell_type": "markdown",
   "id": "a1bf511f",
   "metadata": {},
   "source": [
    "https://en.wikipedia.org/wiki/Galactic_coordinate_system\n",
    "\n",
    "https://astronomy.stackexchange.com/questions/35536/transforming-galactic-coordinates-in-cartesian-with-distance\n",
    "\n",
    "https://en.wikipedia.org/wiki/Stellar_parallax\n",
    "\n",
    "[Parsec](https://en.wikipedia.org/wiki/Parsec) is the units for $1/\\textrm{parallax}$. 1 parsec = 3.26 light-years.\n",
    "\n",
    "I think the units of parsecs is milliarcsecs (mas).\n",
    "\n",
    "What to do about negative parallax?\n",
    "\n",
    "https://astronomy.stackexchange.com/questions/26250/what-is-the-proper-interpretation-of-a-negative-parallax\n",
    "\n",
    "Also, ecliptic coordinates are in the data\n",
    "\n",
    "https://en.wikipedia.org/wiki/Ecliptic_coordinate_system\n",
    "\n",
    "and l and b are in there explicitly. "
   ]
  },
  {
   "cell_type": "code",
   "execution_count": null,
   "id": "6c7563fe",
   "metadata": {},
   "outputs": [],
   "source": [
    "c_icrs = SkyCoord(ra=10.68458*u.degree, dec=41.26917*u.degree, frame='icrs')\n",
    "c_icrs.galactic"
   ]
  },
  {
   "cell_type": "code",
   "execution_count": null,
   "id": "d9c1f896",
   "metadata": {},
   "outputs": [],
   "source": [
    "#def galactic_coordinates(ra, dec, parallax):\n",
    "def galactic_coordinates(l, b, parallax):\n",
    "\n",
    "    #c = SkyCoord(ra=ra*u.degree, dec=dec*u.degree, frame='icrs')\n",
    "    \n",
    "    #l = c.galactic.l.rad\n",
    "    #b = c.galactic.b.rad\n",
    "    \n",
    "    lrad = np.deg2rad(l)\n",
    "    brad = np.deg2rad(b)\n",
    "    \n",
    "    # Assume that parallax is passed in as milliarcsec\n",
    "    conversion = 0.001 # Convert milliarcsec to arcsec\n",
    "    one_over_p = 1/(parallax*conversion)\n",
    "\n",
    "    x = one_over_p*np.cos(brad)*np.cos(lrad)\n",
    "    y = one_over_p*np.cos(brad)*np.sin(lrad)\n",
    "    z = one_over_p*np.sin(brad)\n",
    "    \n",
    "    return x,y,z\n",
    "    "
   ]
  },
  {
   "cell_type": "code",
   "execution_count": null,
   "id": "20092cb9",
   "metadata": {},
   "outputs": [],
   "source": [
    "ra_org = dfgood['ra']\n",
    "dec_org = dfgood['dec']\n",
    "p_org = dfgood['parallax']\n",
    "\n",
    "l_org = dfgood['l']\n",
    "b_org = dfgood['b']\n"
   ]
  },
  {
   "cell_type": "code",
   "execution_count": null,
   "id": "1276ff83",
   "metadata": {
    "scrolled": false
   },
   "outputs": [],
   "source": [
    "plt.figure(figsize=(12,5))\n",
    "plt.subplot(1,3,1)\n",
    "plt.hist(ra_org,bins=50)\n",
    "\n",
    "plt.subplot(1,3,2)\n",
    "plt.hist(dec_org,bins=50)\n",
    "\n",
    "plt.subplot(1,3,3)\n",
    "plt.hist(p_org,bins=50)\n",
    "\n",
    "plt.figure(figsize=(12,12))\n",
    "plt.plot(ra_org,dec_org,'.',markersize=0.5,alpha=0.2)\n",
    "\n",
    "plt.figure(figsize=(8,8))\n",
    "plt.subplot(2,2,1)\n",
    "plt.hist(p_org,bins=50)\n",
    "\n",
    "\n",
    "plt.subplot(2,2,2)\n",
    "plt.hist(p_org[(p_org<50) & (p_org>0)],bins=50)\n",
    "\n",
    "plt.subplot(2,2,3)\n",
    "plt.hist(p_org[p_org>50],bins=50)\n",
    "\n",
    "plt.subplot(2,2,4)\n",
    "plt.hist(p_org[p_org<0.1],bins=50)\n",
    "\n",
    "plt.figure()\n",
    "plt.hist(1/p_org,bins=100)\n",
    "\n",
    "1"
   ]
  },
  {
   "cell_type": "code",
   "execution_count": null,
   "id": "7173b4a3",
   "metadata": {},
   "outputs": [],
   "source": [
    "x,y,z = galactic_coordinates(10,20,0.5)\n",
    "\n",
    "print(x,y,z)"
   ]
  },
  {
   "cell_type": "markdown",
   "id": "5d38c16b",
   "metadata": {},
   "source": [
    "Someone else's visualization of within 3000 parsecs\n",
    "\n",
    "https://www.cosmos.esa.int/web/gaia/iow_20180614"
   ]
  },
  {
   "cell_type": "code",
   "execution_count": null,
   "id": "4d8a3e44",
   "metadata": {},
   "outputs": [],
   "source": [
    "#mask = (p_org>0.1) & (ra_org == ra_org)\n",
    "mask = (p_org>0.1)\n",
    "\n",
    "\n",
    "#ra = ra_org[mask].values\n",
    "#dec = dec_org[mask].values\n",
    "\n",
    "l = l_org[mask].values\n",
    "b = b_org[mask].values\n",
    "\n",
    "p = p_org[mask].values\n",
    "            \n",
    "\n",
    "#x,y,z = galactic_coordinates(ra, dec, p)\n",
    "x,y,z = galactic_coordinates(l, b, p)\n",
    "\n",
    "\n",
    "#fig = plt.figure(figsize=(8,8))\n",
    "#ax = fig.add_subplot(projection='3d')\n",
    "#\n",
    "#plt.plot(x,y,z,'.',markersize=0.5,alpha=0.2)"
   ]
  },
  {
   "cell_type": "code",
   "execution_count": null,
   "id": "d47b059b",
   "metadata": {},
   "outputs": [],
   "source": [
    "plt.figure(figsize=(12,5))\n",
    "plt.subplot(1,3,1)\n",
    "plt.hist(x,bins=50)\n",
    "\n",
    "plt.subplot(1,3,2)\n",
    "plt.hist(y,bins=50)\n",
    "\n",
    "plt.subplot(1,3,3)\n",
    "plt.hist(z,bins=50)\n",
    "\n",
    "1"
   ]
  },
  {
   "cell_type": "code",
   "execution_count": null,
   "id": "184e6181",
   "metadata": {},
   "outputs": [],
   "source": [
    "rv = dfgood['dr2_radial_velocity']"
   ]
  },
  {
   "cell_type": "code",
   "execution_count": null,
   "id": "2ba57778",
   "metadata": {},
   "outputs": [],
   "source": [
    "len(rv)"
   ]
  },
  {
   "cell_type": "code",
   "execution_count": null,
   "id": "9ba67f8a",
   "metadata": {},
   "outputs": [],
   "source": [
    "plt.figure()\n",
    "plt.hist(rv,bins=100)\n",
    "plt.yscale('log')\n",
    "\n",
    "1"
   ]
  },
  {
   "cell_type": "code",
   "execution_count": null,
   "id": "dd3efcfc",
   "metadata": {},
   "outputs": [],
   "source": [
    "x,y,z"
   ]
  },
  {
   "cell_type": "code",
   "execution_count": null,
   "id": "0917131e",
   "metadata": {},
   "outputs": [],
   "source": [
    "rv"
   ]
  },
  {
   "cell_type": "code",
   "execution_count": null,
   "id": "74cfecf6",
   "metadata": {},
   "outputs": [],
   "source": [
    "df.columns"
   ]
  },
  {
   "cell_type": "code",
   "execution_count": null,
   "id": "e7cb352d",
   "metadata": {},
   "outputs": [],
   "source": [
    "df['ecl_lon']"
   ]
  },
  {
   "cell_type": "code",
   "execution_count": null,
   "id": "8dd05bc5",
   "metadata": {},
   "outputs": [],
   "source": [
    "dfgood['parallax']"
   ]
  },
  {
   "cell_type": "code",
   "execution_count": null,
   "id": "e20de1db",
   "metadata": {},
   "outputs": [],
   "source": [
    "#!pip install plotly"
   ]
  },
  {
   "cell_type": "code",
   "execution_count": null,
   "id": "a545243f",
   "metadata": {},
   "outputs": [],
   "source": [
    "import plotly.express as px\n",
    "import plotly.graph_objects as go\n"
   ]
  },
  {
   "cell_type": "code",
   "execution_count": null,
   "id": "54e36beb",
   "metadata": {},
   "outputs": [],
   "source": [
    "#px.scatter_3d(x,y,z,'.')\n",
    "fig = go.Figure(data=[go.Scatter3d(x=x, y=y, z=z,\n",
    "                                   mode='markers', marker=dict(size=1))])\n",
    "\n",
    "fig.show()"
   ]
  },
  {
   "cell_type": "code",
   "execution_count": null,
   "id": "4bc083e2",
   "metadata": {},
   "outputs": [],
   "source": []
  },
  {
   "cell_type": "markdown",
   "id": "6a8eed03",
   "metadata": {},
   "source": [
    "Proper motion\n",
    "\n",
    "https://gea.esac.esa.int/archive/documentation/GEDR3/Gaia_archive/chap_datamodel/sec_dm_main_tables/ssec_dm_gaia_source.html\n",
    "    \n",
    "\n",
    "https://en.wikipedia.org/wiki/Proper_motion#:~:text=Proper%20motion%20is%20the%20astrometric,of%20the%20more%20distant%20stars.\n",
    "    \n",
    " \n",
    "pmra,pmdec\n",
    "    "
   ]
  },
  {
   "cell_type": "code",
   "execution_count": null,
   "id": "88acb85c",
   "metadata": {},
   "outputs": [],
   "source": [
    "pmra = dfgood['pmra']\n",
    "pmdec = dfgood['pmdec']"
   ]
  },
  {
   "cell_type": "code",
   "execution_count": null,
   "id": "89085517",
   "metadata": {},
   "outputs": [],
   "source": [
    "#mask = pmdec<1600\n",
    "mask = pmdec<1000\n",
    "\n",
    "\n",
    "#plt.plot(pmra[mask],pmdec[mask],'.')"
   ]
  },
  {
   "cell_type": "code",
   "execution_count": null,
   "id": "c009bcd8",
   "metadata": {},
   "outputs": [],
   "source": [
    "p = dfgood['parallax']\n",
    "pm = dfgood['pm']\n",
    "\n",
    "\n",
    "conversion = 0.001 # Convert milliarcsec to arcsec\n",
    "one_over_p = 1/(p*conversion)\n",
    "distance = one_over_p\n",
    "\n",
    "vmag = np.sqrt(rv[mask]**2 + (distance[mask]*(pm[mask]/3.1e8))**2)"
   ]
  },
  {
   "cell_type": "code",
   "execution_count": null,
   "id": "6ca338bb",
   "metadata": {},
   "outputs": [],
   "source": [
    "plt.hist(vmag,bins=100,range=(0,1000));"
   ]
  },
  {
   "cell_type": "code",
   "execution_count": null,
   "id": "e87e885d",
   "metadata": {},
   "outputs": [],
   "source": [
    "plt.figure(figsize=(12,5))\n",
    "plt.subplot(1,2,1)\n",
    "\n",
    "plt.hist(rv[mask],bins=100,range=(0,1000));\n",
    "\n",
    "plt.subplot(1,2,2)\n",
    "\n",
    "plt.hist(distance[mask]*pm[mask]/3.1e8,bins=100,range=(0,0.001))\n",
    "\n",
    "1;"
   ]
  },
  {
   "cell_type": "code",
   "execution_count": null,
   "id": "3e12c774",
   "metadata": {},
   "outputs": [],
   "source": [
    "plt.hist(pm[mask]/3.1e8,bins=100);"
   ]
  },
  {
   "cell_type": "code",
   "execution_count": null,
   "id": "237bf16c",
   "metadata": {},
   "outputs": [],
   "source": [
    "max(distance[mask]*pm[mask]/3.1e8)"
   ]
  },
  {
   "cell_type": "code",
   "execution_count": null,
   "id": "a41ae574",
   "metadata": {},
   "outputs": [],
   "source": [
    "nvals = len(df)\n",
    "print(nvals)\n",
    "\n",
    "nsamples = 100000\n",
    "\n",
    "x = np.arange(0,nvals,1).astype(int)\n",
    "np.random.shuffle(x)\n",
    "\n",
    "indices = x[0:nsamples]\n",
    "\n",
    "#print(indices)\n",
    "\n",
    "df_sample = df.iloc[indices]\n",
    "\n",
    "name = f\"gaia_subset_n{nsamples}.h5\"\n",
    "\n",
    "df_sample.to_hdf(name,'df')\n",
    "\n",
    "df_sample\n",
    "\n",
    "p = df_sample['parallax']\n",
    "\n",
    "#mask = (p_org>0.1) & (ra_org == ra_org)\n",
    "mask = (p>0.1)\n",
    "\n",
    "\n",
    "#ra = ra_org[mask].values\n",
    "#dec = dec_org[mask].values\n",
    "\n",
    "l = df_sample[mask]['l'].values\n",
    "b = df_sample[mask]['b'].values\n",
    "\n",
    "p = p[mask].values\n",
    "            \n",
    "\n",
    "#x,y,z = galactic_coordinates(ra, dec, p)\n",
    "x,y,z = galactic_coordinates(l, b, p)"
   ]
  },
  {
   "cell_type": "code",
   "execution_count": null,
   "id": "c26f8120",
   "metadata": {},
   "outputs": [],
   "source": [
    "fig = go.Figure(data=[go.Scatter3d(x=x, y=y, z=z,\n",
    "                                   mode='markers', marker=dict(size=1))])\n",
    "\n",
    "fig.show()"
   ]
  },
  {
   "cell_type": "markdown",
   "id": "f931265c",
   "metadata": {},
   "source": [
    "# Animation"
   ]
  },
  {
   "cell_type": "code",
   "execution_count": null,
   "id": "ab6170d9",
   "metadata": {},
   "outputs": [],
   "source": [
    "from matplotlib.animation import FuncAnimation, FFMpegWriter\n",
    "from matplotlib import rc\n",
    "from matplotlib import cm, colors\n",
    "\n",
    "import matplotlib.animation as animation\n"
   ]
  },
  {
   "cell_type": "code",
   "execution_count": null,
   "id": "28692cdb",
   "metadata": {},
   "outputs": [],
   "source": [
    "len(df)"
   ]
  },
  {
   "cell_type": "code",
   "execution_count": null,
   "id": "d3710667",
   "metadata": {},
   "outputs": [],
   "source": [
    "nsamples = 1000\n",
    "\n",
    "x = np.arange(0,nvals,1).astype(int)\n",
    "np.random.shuffle(x)\n",
    "\n",
    "indices = x[0:nsamples]\n",
    "\n",
    "#print(indices)\n",
    "\n",
    "df_sample = df.iloc[indices]\n"
   ]
  },
  {
   "cell_type": "code",
   "execution_count": null,
   "id": "19f414d2",
   "metadata": {},
   "outputs": [],
   "source": [
    "fig = plt.figure(figsize=(12,8))   #plotting\n",
    "ax = plt.axes(xlim=(-0,360), ylim=(-100,100))\n",
    "\n",
    "time_text = ax.text(0.02, 0.95, '', transform=ax.transAxes)\n",
    "\n",
    "plt.xlabel(\"Right Ascension\")\n",
    "plt.ylabel(\"Declination\")\n",
    "plt.title(\"RA vs DEC\" )\n",
    "\n",
    "\n",
    "ra = df_sample['ra'].values\n",
    "dec = df_sample['dec'].values\n",
    "\n",
    "pmra = df_sample['pmra'].values\n",
    "pmdec = df_sample['pmdec'].values\n",
    "\n",
    "print(len(distance))\n",
    "print(len(ra))\n",
    "\n",
    "parallax = df_sample['parallax'].values\n",
    "\n",
    "P = parallax/1000\n",
    "distance = 1/P    \n",
    "\n",
    "pmmag2 = np.sqrt(pmra**2 + pmdec**2)\n",
    "\n",
    "mask = pmmag<50\n",
    "\n",
    "ra = ra[mask]\n",
    "dec = dec[mask]\n",
    "\n",
    "pmra = pmra[mask]\n",
    "pmdec = pmdec[mask]   \n",
    "\n",
    "distance = distance[mask]\n",
    "\n",
    "print(len(ra), len(pmra))\n",
    "\n",
    "#####################################################################\n",
    "#point, = ax.plot([], [], 'k.', markersize=1)\n",
    "point = ax.scatter([], [],s=10)\n",
    "\n",
    "#### Another approach with scatter plot\n",
    "# https://stackoverflow.com/questions/9401658/how-to-animate-a-scatter-plot\n",
    "\n",
    "def init():\n",
    "    time_text.set_text('')\n",
    "    return point, time_text,\n",
    "\n",
    "def animate(i):\n",
    "    cmap = cm.Blues\n",
    "    dt = 10000\n",
    "    t = i*dt\n",
    "    \n",
    "    x1 = ra + (t*pmra/3.6e6)\n",
    "    y1 = dec + (t*pmdec/3.6e6)\n",
    "    \n",
    "    xy = np.c_[x1, y1]\n",
    "    point.set_offsets(xy)\n",
    "    point.set_sizes(10*1/(distance/1000))\n",
    "\n",
    "    time_text.set_text(str(dt*i)+\" years\")\n",
    "\n",
    "    return point, time_text,\n",
    "\n",
    "plt.close()"
   ]
  },
  {
   "cell_type": "code",
   "execution_count": null,
   "id": "ef211d99",
   "metadata": {},
   "outputs": [],
   "source": [
    "    \n",
    "npts=500\n",
    "\n",
    "anim = FuncAnimation(fig, animate, init_func=init,\n",
    "                               frames=npts, interval=25, blit=True,  save_count=npts)\n"
   ]
  },
  {
   "cell_type": "code",
   "execution_count": null,
   "id": "3f118fb7",
   "metadata": {
    "scrolled": false
   },
   "outputs": [],
   "source": [
    "rc('animation', html='jshtml')\n",
    "anim"
   ]
  },
  {
   "cell_type": "code",
   "execution_count": null,
   "id": "df29f63e",
   "metadata": {},
   "outputs": [],
   "source": [
    "anim.save('gaia_animation.mp4')\n"
   ]
  },
  {
   "cell_type": "code",
   "execution_count": null,
   "id": "0b8669db",
   "metadata": {},
   "outputs": [],
   "source": [
    "ra_degrees = df['ra'].values\n",
    "dec_degrees = df['dec'].values\n",
    "\n",
    "pmra = df['pmra'].values\n",
    "pmdec = df['pmdec'].values\n",
    "\n",
    "pmmag = np.sqrt(pmra**2 + pmdec**2)\n",
    "\n",
    "parallax = df['parallax'].values\n",
    "P = parallax/1000\n",
    "distance = 1/P    \n",
    "    \n",
    "plt.figure()\n",
    "plt.hist(pmmag,bins=100,range=(0,50));\n",
    "\n",
    "plt.figure()\n",
    "plt.hist(distance,bins=100,range=(-1,10000));"
   ]
  },
  {
   "cell_type": "code",
   "execution_count": null,
   "id": "5ff67747",
   "metadata": {},
   "outputs": [],
   "source": [
    "plt.plot(distance[pmmag<50],pmmag[pmmag<50],'.',markersize=1)\n",
    "plt.xlim(0,10000)"
   ]
  },
  {
   "cell_type": "code",
   "execution_count": null,
   "id": "a6db9021",
   "metadata": {},
   "outputs": [],
   "source": [
    "plt.figure()\n",
    "plt.scatter([0,1],[0,1],marker='o',s=np.array([10,20]))"
   ]
  },
  {
   "cell_type": "code",
   "execution_count": null,
   "id": "6e2efafe",
   "metadata": {},
   "outputs": [],
   "source": [
    "? plt.scatter"
   ]
  },
  {
   "cell_type": "code",
   "execution_count": null,
   "id": "d417303d",
   "metadata": {},
   "outputs": [],
   "source": []
  }
 ],
 "metadata": {
  "kernelspec": {
   "display_name": "Python 3",
   "language": "python",
   "name": "python3"
  },
  "language_info": {
   "codemirror_mode": {
    "name": "ipython",
    "version": 3
   },
   "file_extension": ".py",
   "mimetype": "text/x-python",
   "name": "python",
   "nbconvert_exporter": "python",
   "pygments_lexer": "ipython3",
   "version": "3.8.8"
  }
 },
 "nbformat": 4,
 "nbformat_minor": 5
}
